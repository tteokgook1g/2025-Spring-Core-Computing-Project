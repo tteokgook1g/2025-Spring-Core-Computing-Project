{
  "cells": [
    {
      "cell_type": "markdown",
      "id": "DmRuWQ34Dc62",
      "metadata": {
        "id": "DmRuWQ34Dc62"
      },
      "source": [
        "# import libraries\n",
        "코랩 환경에서 실행하였습니다. 데이터 다운로드 및 처리에 필요한 라이브러리를 다운로드 받고 임포트합니다."
      ]
    },
    {
      "cell_type": "code",
      "execution_count": null,
      "id": "32191537",
      "metadata": {
        "colab": {
          "base_uri": "https://localhost:8080/"
        },
        "id": "32191537",
        "outputId": "114fcf67-e662-4413-9d51-a7db9dcc32ff"
      },
      "outputs": [
        {
          "name": "stdout",
          "output_type": "stream",
          "text": [
            "Requirement already satisfied: ijson in /usr/local/lib/python3.11/dist-packages (3.4.0)\n",
            "Requirement already satisfied: fastparquet in /usr/local/lib/python3.11/dist-packages (2024.11.0)\n",
            "Requirement already satisfied: pandas>=1.5.0 in /usr/local/lib/python3.11/dist-packages (from fastparquet) (2.2.2)\n",
            "Requirement already satisfied: numpy in /usr/local/lib/python3.11/dist-packages (from fastparquet) (2.0.2)\n",
            "Requirement already satisfied: cramjam>=2.3 in /usr/local/lib/python3.11/dist-packages (from fastparquet) (2.10.0)\n",
            "Requirement already satisfied: fsspec in /usr/local/lib/python3.11/dist-packages (from fastparquet) (2025.3.2)\n",
            "Requirement already satisfied: packaging in /usr/local/lib/python3.11/dist-packages (from fastparquet) (24.2)\n",
            "Requirement already satisfied: python-dateutil>=2.8.2 in /usr/local/lib/python3.11/dist-packages (from pandas>=1.5.0->fastparquet) (2.9.0.post0)\n",
            "Requirement already satisfied: pytz>=2020.1 in /usr/local/lib/python3.11/dist-packages (from pandas>=1.5.0->fastparquet) (2025.2)\n",
            "Requirement already satisfied: tzdata>=2022.7 in /usr/local/lib/python3.11/dist-packages (from pandas>=1.5.0->fastparquet) (2025.2)\n",
            "Requirement already satisfied: six>=1.5 in /usr/local/lib/python3.11/dist-packages (from python-dateutil>=2.8.2->pandas>=1.5.0->fastparquet) (1.17.0)\n"
          ]
        }
      ],
      "source": [
        "!pip install ijson\n",
        "!pip install fastparquet"
      ]
    },
    {
      "cell_type": "code",
      "execution_count": null,
      "id": "69f8bf48",
      "metadata": {
        "id": "69f8bf48"
      },
      "outputs": [],
      "source": [
        "from collections import Counter, defaultdict\n",
        "import heapq\n",
        "\n",
        "from huggingface_hub import hf_hub_download\n",
        "from tqdm import tqdm\n",
        "import dask.dataframe as dd\n",
        "import pandas as pd"
      ]
    },
    {
      "cell_type": "markdown",
      "id": "tdDWfMrvDp7f",
      "metadata": {
        "id": "tdDWfMrvDp7f"
      },
      "source": [
        "# 그래프 데이터 생성\n",
        "\n",
        "코랩 환경에서 약 35분 소요되었습니다. 이 부분은 뒤의 데이터 로딩 코드로 대체할 수 있습니다."
      ]
    },
    {
      "cell_type": "markdown",
      "id": "Y03pHm0GlIsa",
      "metadata": {
        "id": "Y03pHm0GlIsa"
      },
      "source": [
        "## 데이터 다운로드\n",
        "나무위키 문서 데이터셋을 다운로드하고 dask 라이브러리를 사용해 불러옵니다.\n",
        "\n",
        "데이터셋 크기가 매우 커서 pandas를 사용하여 한 번에 불러올 수 없습니다."
      ]
    },
    {
      "cell_type": "code",
      "execution_count": null,
      "id": "f5f78661",
      "metadata": {
        "colab": {
          "base_uri": "https://localhost:8080/",
          "height": 181,
          "referenced_widgets": [
            "3d672cba5db64bd2a5321f71f40b09d1",
            "968f8512627f4175871534d34067924d",
            "bb6c23dc6f7c46b0ac0631b81ea1a0fa",
            "4ae397e5934d40d689a0986dd08240b1",
            "f3d6a03081ed48d2942590dbf0f288fe",
            "4f3ab2bdf681404c86f7cd7ee378faab",
            "3c5221a42b644ce4a10c73e6bc659a44",
            "bfb9f6b6a7ed441a9ec5fb09db8a569e",
            "8e0b70697f2f43fcb4e5ab9120d08cb7",
            "45bfcf6196ef4d49b632facaa8c20917",
            "2aa846e98d1240b99fdc7c86cb9db76b"
          ]
        },
        "id": "f5f78661",
        "outputId": "6f1ef359-76a2-4695-cc3d-4bd56c1d4c73"
      },
      "outputs": [
        {
          "name": "stderr",
          "output_type": "stream",
          "text": [
            "/usr/local/lib/python3.11/dist-packages/huggingface_hub/utils/_auth.py:94: UserWarning: \n",
            "The secret `HF_TOKEN` does not exist in your Colab secrets.\n",
            "To authenticate with the Hugging Face Hub, create a token in your settings tab (https://huggingface.co/settings/tokens), set it as secret in your Google Colab and restart your session.\n",
            "You will be able to reuse this secret in all of your notebooks.\n",
            "Please note that authentication is recommended but still optional to access public models or datasets.\n",
            "  warnings.warn(\n"
          ]
        },
        {
          "data": {
            "application/vnd.jupyter.widget-view+json": {
              "model_id": "3d672cba5db64bd2a5321f71f40b09d1",
              "version_major": 2,
              "version_minor": 0
            },
            "text/plain": [
              "namuwiki_20210301.parquet:   0%|          | 0.00/3.03G [00:00<?, ?B/s]"
            ]
          },
          "metadata": {},
          "output_type": "display_data"
        }
      ],
      "source": [
        "# Download with progress bar\n",
        "file_path = hf_hub_download(\n",
        "    repo_id=\"heegyu/namuwiki\", repo_type='dataset', filename=\"namuwiki_20210301.parquet\")"
      ]
    },
    {
      "cell_type": "code",
      "execution_count": null,
      "id": "MTZt_z8bgX4d",
      "metadata": {
        "id": "MTZt_z8bgX4d"
      },
      "outputs": [],
      "source": [
        "# Load the Parquet file\n",
        "ddf = dd.read_parquet(file_path)"
      ]
    },
    {
      "cell_type": "markdown",
      "id": "WB7enmnxE1Y_",
      "metadata": {
        "id": "WB7enmnxE1Y_"
      },
      "source": [
        "## 데이터 처리\n",
        "\n"
      ]
    },
    {
      "cell_type": "markdown",
      "id": "H26SEbb_E92F",
      "metadata": {
        "id": "H26SEbb_E92F"
      },
      "source": [
        "나무위키 문법에서 링크를 나타내는 `[[...]]` 부분을 추출하는 함수입니다.\n",
        "\n",
        "각주(`[*...]`) 안은 무시합니다."
      ]
    },
    {
      "cell_type": "code",
      "execution_count": null,
      "id": "wuC40EqbisSm",
      "metadata": {
        "id": "wuC40EqbisSm"
      },
      "outputs": [],
      "source": [
        "def extract_double_bracket_links(text):\n",
        "    \"\"\"\n",
        "    Extracts [[...]]-style links from text with filtering rules:\n",
        "    - Only the part before '|' is kept, if present.\n",
        "    - Links inside [* ... ] blocks are ignored.\n",
        "    - Links starting with '파일:', 'http://', or 'https://' are ignored.\n",
        "\n",
        "    Parameters:\n",
        "        text (str): Input string.\n",
        "\n",
        "    Returns:\n",
        "        dict: Dictionary of valid link targets with occurrence counts.\n",
        "    \"\"\"\n",
        "    results = []\n",
        "    i = 0\n",
        "    n = len(text)\n",
        "    in_footnote = False\n",
        "\n",
        "    while i < n:\n",
        "        if not in_footnote and text[i:i+2] == \"[*\":\n",
        "            in_footnote = True\n",
        "            i += 2\n",
        "\n",
        "        elif text[i:i+2] == \"[[\":\n",
        "            end = text.find(\"]]\", i + 2)\n",
        "            if end == -1:\n",
        "                break  # No matching ]]\n",
        "            content = text[i+2:end]\n",
        "            i = end + 2\n",
        "\n",
        "            if in_footnote:\n",
        "                continue\n",
        "\n",
        "            # Remove after | if exists\n",
        "            if \"|\" in content:\n",
        "                content = content.split(\"|\", 1)[0]\n",
        "\n",
        "            # Filter unwanted prefixes\n",
        "            if not (\n",
        "                content.startswith(\"파일:\") or\n",
        "                content.startswith(\"http://\") or\n",
        "                content.startswith(\"https://\")\n",
        "            ):\n",
        "                results.append(content)\n",
        "\n",
        "\n",
        "        elif in_footnote and text[i] == \"]\":\n",
        "            in_footnote = False\n",
        "            i += 1\n",
        "\n",
        "        else:\n",
        "            i += 1\n",
        "\n",
        "    return dict(Counter(results))\n"
      ]
    },
    {
      "cell_type": "markdown",
      "id": "WEgis4wEnBaH",
      "metadata": {
        "id": "WEgis4wEnBaH"
      },
      "source": [
        "빠른 접근을 위해 id와 title 각각을 인덱스로 하는 Series를 만듭니다."
      ]
    },
    {
      "cell_type": "code",
      "execution_count": null,
      "id": "uHiPcaphuPfl",
      "metadata": {
        "id": "uHiPcaphuPfl"
      },
      "outputs": [],
      "source": [
        "s_id_title = ddf['title'].compute().reset_index(drop=True)\n",
        "s_title_id = s_id_title.reset_index().set_index('title', verify_integrity=True)['index'].sort_index()"
      ]
    },
    {
      "cell_type": "markdown",
      "id": "hbUN--hJnL2A",
      "metadata": {
        "id": "hbUN--hJnL2A"
      },
      "source": [
        "문서 텍스트 데이터를 분석하여 문서 간 연결 관계를 저장하는 DataFrame을 만듭니다."
      ]
    },
    {
      "cell_type": "code",
      "execution_count": null,
      "id": "_y1oT5lJxa6m",
      "metadata": {
        "id": "_y1oT5lJxa6m"
      },
      "outputs": [],
      "source": [
        "def create_link_edges_dataframe_dask(df_dask):\n",
        "    # Use a closure to pass the mapping and link extractor\n",
        "    def partition_func(partition_df):\n",
        "        print('running partition')\n",
        "        # records = []\n",
        "\n",
        "        # for row in partition_df.itertuples(index=False):\n",
        "        #     from_title = row.title\n",
        "        #     text = row.text\n",
        "        #     links = extract_double_bracket_links(text)\n",
        "\n",
        "        #     for to_title, count in links.items():\n",
        "        #         if to_title in s_title_id.index:\n",
        "        #             records.append((s_title_id.loc[from_title], s_title_id.loc[to_title], count))\n",
        "\n",
        "        records = (\n",
        "            (s_title_id.loc[row.title], s_title_id.loc[to_title], count)\n",
        "            for row in partition_df.itertuples(index=False)\n",
        "            for to_title, count in extract_double_bracket_links(row.text).items()\n",
        "            if to_title in s_title_id.index\n",
        "        )\n",
        "\n",
        "        return pd.DataFrame(records, columns=['from_title', 'to_title', 'count'])\n",
        "\n",
        "    # Apply per partition\n",
        "    link_df = df_dask.map_partitions(partition_func, meta={'from_title': int, 'to_title': int, 'count': int})\n",
        "\n",
        "    return link_df\n"
      ]
    },
    {
      "cell_type": "code",
      "execution_count": null,
      "id": "vmoI_gu_yWxC",
      "metadata": {
        "colab": {
          "base_uri": "https://localhost:8080/"
        },
        "id": "vmoI_gu_yWxC",
        "outputId": "12ff3062-8f86-44c9-c7bd-c6cc4a971c5b"
      },
      "outputs": [
        {
          "name": "stdout",
          "output_type": "stream",
          "text": [
            "running partition\n",
            "running partition\n",
            "running partition\n",
            "running partition\n",
            "running partition\n",
            "running partition\n",
            "running partition\n",
            "running partition\n",
            "running partition\n",
            "running partition\n",
            "running partition\n",
            "running partition\n",
            "running partition\n",
            "running partition\n",
            "running partition\n",
            "running partition\n",
            "running partition\n",
            "running partition\n",
            "running partition\n",
            "running partition\n",
            "running partition\n",
            "running partition\n",
            "running partition\n",
            "running partition\n",
            "running partition\n",
            "running partition\n",
            "running partition\n",
            "running partition\n",
            "running partition\n",
            "running partition\n",
            "running partition\n",
            "running partition\n",
            "running partition\n",
            "running partition\n"
          ]
        }
      ],
      "source": [
        "edges_df = create_link_edges_dataframe_dask(ddf).compute()"
      ]
    },
    {
      "cell_type": "code",
      "execution_count": null,
      "id": "FBG1AlspH03y",
      "metadata": {
        "colab": {
          "base_uri": "https://localhost:8080/",
          "height": 423
        },
        "id": "FBG1AlspH03y",
        "outputId": "f4d4df2f-44cb-46c9-b443-73978ae00b87"
      },
      "outputs": [
        {
          "data": {
            "application/vnd.google.colaboratory.intrinsic+json": {
              "type": "dataframe",
              "variable_name": "edges_df"
            },
            "text/html": [
              "\n",
              "  <div id=\"df-0b22e305-d737-44e5-bbf3-654620d1c6dd\" class=\"colab-df-container\">\n",
              "    <div>\n",
              "<style scoped>\n",
              "    .dataframe tbody tr th:only-of-type {\n",
              "        vertical-align: middle;\n",
              "    }\n",
              "\n",
              "    .dataframe tbody tr th {\n",
              "        vertical-align: top;\n",
              "    }\n",
              "\n",
              "    .dataframe thead th {\n",
              "        text-align: right;\n",
              "    }\n",
              "</style>\n",
              "<table border=\"1\" class=\"dataframe\">\n",
              "  <thead>\n",
              "    <tr style=\"text-align: right;\">\n",
              "      <th></th>\n",
              "      <th>from_title</th>\n",
              "      <th>to_title</th>\n",
              "      <th>count</th>\n",
              "    </tr>\n",
              "  </thead>\n",
              "  <tbody>\n",
              "    <tr>\n",
              "      <th>0</th>\n",
              "      <td>1</td>\n",
              "      <td>143751</td>\n",
              "      <td>2</td>\n",
              "    </tr>\n",
              "    <tr>\n",
              "      <th>1</th>\n",
              "      <td>1</td>\n",
              "      <td>128620</td>\n",
              "      <td>1</td>\n",
              "    </tr>\n",
              "    <tr>\n",
              "      <th>2</th>\n",
              "      <td>1</td>\n",
              "      <td>128612</td>\n",
              "      <td>2</td>\n",
              "    </tr>\n",
              "    <tr>\n",
              "      <th>3</th>\n",
              "      <td>1</td>\n",
              "      <td>118944</td>\n",
              "      <td>1</td>\n",
              "    </tr>\n",
              "    <tr>\n",
              "      <th>4</th>\n",
              "      <td>1</td>\n",
              "      <td>77175</td>\n",
              "      <td>1</td>\n",
              "    </tr>\n",
              "    <tr>\n",
              "      <th>...</th>\n",
              "      <td>...</td>\n",
              "      <td>...</td>\n",
              "      <td>...</td>\n",
              "    </tr>\n",
              "    <tr>\n",
              "      <th>20741</th>\n",
              "      <td>867022</td>\n",
              "      <td>203442</td>\n",
              "      <td>1</td>\n",
              "    </tr>\n",
              "    <tr>\n",
              "      <th>20742</th>\n",
              "      <td>867022</td>\n",
              "      <td>283833</td>\n",
              "      <td>1</td>\n",
              "    </tr>\n",
              "    <tr>\n",
              "      <th>20743</th>\n",
              "      <td>867022</td>\n",
              "      <td>181673</td>\n",
              "      <td>1</td>\n",
              "    </tr>\n",
              "    <tr>\n",
              "      <th>20744</th>\n",
              "      <td>867022</td>\n",
              "      <td>1181</td>\n",
              "      <td>1</td>\n",
              "    </tr>\n",
              "    <tr>\n",
              "      <th>20745</th>\n",
              "      <td>867022</td>\n",
              "      <td>263939</td>\n",
              "      <td>1</td>\n",
              "    </tr>\n",
              "  </tbody>\n",
              "</table>\n",
              "<p>18700924 rows × 3 columns</p>\n",
              "</div>\n",
              "    <div class=\"colab-df-buttons\">\n",
              "\n",
              "  <div class=\"colab-df-container\">\n",
              "    <button class=\"colab-df-convert\" onclick=\"convertToInteractive('df-0b22e305-d737-44e5-bbf3-654620d1c6dd')\"\n",
              "            title=\"Convert this dataframe to an interactive table.\"\n",
              "            style=\"display:none;\">\n",
              "\n",
              "  <svg xmlns=\"http://www.w3.org/2000/svg\" height=\"24px\" viewBox=\"0 -960 960 960\">\n",
              "    <path d=\"M120-120v-720h720v720H120Zm60-500h600v-160H180v160Zm220 220h160v-160H400v160Zm0 220h160v-160H400v160ZM180-400h160v-160H180v160Zm440 0h160v-160H620v160ZM180-180h160v-160H180v160Zm440 0h160v-160H620v160Z\"/>\n",
              "  </svg>\n",
              "    </button>\n",
              "\n",
              "  <style>\n",
              "    .colab-df-container {\n",
              "      display:flex;\n",
              "      gap: 12px;\n",
              "    }\n",
              "\n",
              "    .colab-df-convert {\n",
              "      background-color: #E8F0FE;\n",
              "      border: none;\n",
              "      border-radius: 50%;\n",
              "      cursor: pointer;\n",
              "      display: none;\n",
              "      fill: #1967D2;\n",
              "      height: 32px;\n",
              "      padding: 0 0 0 0;\n",
              "      width: 32px;\n",
              "    }\n",
              "\n",
              "    .colab-df-convert:hover {\n",
              "      background-color: #E2EBFA;\n",
              "      box-shadow: 0px 1px 2px rgba(60, 64, 67, 0.3), 0px 1px 3px 1px rgba(60, 64, 67, 0.15);\n",
              "      fill: #174EA6;\n",
              "    }\n",
              "\n",
              "    .colab-df-buttons div {\n",
              "      margin-bottom: 4px;\n",
              "    }\n",
              "\n",
              "    [theme=dark] .colab-df-convert {\n",
              "      background-color: #3B4455;\n",
              "      fill: #D2E3FC;\n",
              "    }\n",
              "\n",
              "    [theme=dark] .colab-df-convert:hover {\n",
              "      background-color: #434B5C;\n",
              "      box-shadow: 0px 1px 3px 1px rgba(0, 0, 0, 0.15);\n",
              "      filter: drop-shadow(0px 1px 2px rgba(0, 0, 0, 0.3));\n",
              "      fill: #FFFFFF;\n",
              "    }\n",
              "  </style>\n",
              "\n",
              "    <script>\n",
              "      const buttonEl =\n",
              "        document.querySelector('#df-0b22e305-d737-44e5-bbf3-654620d1c6dd button.colab-df-convert');\n",
              "      buttonEl.style.display =\n",
              "        google.colab.kernel.accessAllowed ? 'block' : 'none';\n",
              "\n",
              "      async function convertToInteractive(key) {\n",
              "        const element = document.querySelector('#df-0b22e305-d737-44e5-bbf3-654620d1c6dd');\n",
              "        const dataTable =\n",
              "          await google.colab.kernel.invokeFunction('convertToInteractive',\n",
              "                                                    [key], {});\n",
              "        if (!dataTable) return;\n",
              "\n",
              "        const docLinkHtml = 'Like what you see? Visit the ' +\n",
              "          '<a target=\"_blank\" href=https://colab.research.google.com/notebooks/data_table.ipynb>data table notebook</a>'\n",
              "          + ' to learn more about interactive tables.';\n",
              "        element.innerHTML = '';\n",
              "        dataTable['output_type'] = 'display_data';\n",
              "        await google.colab.output.renderOutput(dataTable, element);\n",
              "        const docLink = document.createElement('div');\n",
              "        docLink.innerHTML = docLinkHtml;\n",
              "        element.appendChild(docLink);\n",
              "      }\n",
              "    </script>\n",
              "  </div>\n",
              "\n",
              "\n",
              "    <div id=\"df-25d6f084-a11f-4f61-9496-9dab118dd597\">\n",
              "      <button class=\"colab-df-quickchart\" onclick=\"quickchart('df-25d6f084-a11f-4f61-9496-9dab118dd597')\"\n",
              "                title=\"Suggest charts\"\n",
              "                style=\"display:none;\">\n",
              "\n",
              "<svg xmlns=\"http://www.w3.org/2000/svg\" height=\"24px\"viewBox=\"0 0 24 24\"\n",
              "     width=\"24px\">\n",
              "    <g>\n",
              "        <path d=\"M19 3H5c-1.1 0-2 .9-2 2v14c0 1.1.9 2 2 2h14c1.1 0 2-.9 2-2V5c0-1.1-.9-2-2-2zM9 17H7v-7h2v7zm4 0h-2V7h2v10zm4 0h-2v-4h2v4z\"/>\n",
              "    </g>\n",
              "</svg>\n",
              "      </button>\n",
              "\n",
              "<style>\n",
              "  .colab-df-quickchart {\n",
              "      --bg-color: #E8F0FE;\n",
              "      --fill-color: #1967D2;\n",
              "      --hover-bg-color: #E2EBFA;\n",
              "      --hover-fill-color: #174EA6;\n",
              "      --disabled-fill-color: #AAA;\n",
              "      --disabled-bg-color: #DDD;\n",
              "  }\n",
              "\n",
              "  [theme=dark] .colab-df-quickchart {\n",
              "      --bg-color: #3B4455;\n",
              "      --fill-color: #D2E3FC;\n",
              "      --hover-bg-color: #434B5C;\n",
              "      --hover-fill-color: #FFFFFF;\n",
              "      --disabled-bg-color: #3B4455;\n",
              "      --disabled-fill-color: #666;\n",
              "  }\n",
              "\n",
              "  .colab-df-quickchart {\n",
              "    background-color: var(--bg-color);\n",
              "    border: none;\n",
              "    border-radius: 50%;\n",
              "    cursor: pointer;\n",
              "    display: none;\n",
              "    fill: var(--fill-color);\n",
              "    height: 32px;\n",
              "    padding: 0;\n",
              "    width: 32px;\n",
              "  }\n",
              "\n",
              "  .colab-df-quickchart:hover {\n",
              "    background-color: var(--hover-bg-color);\n",
              "    box-shadow: 0 1px 2px rgba(60, 64, 67, 0.3), 0 1px 3px 1px rgba(60, 64, 67, 0.15);\n",
              "    fill: var(--button-hover-fill-color);\n",
              "  }\n",
              "\n",
              "  .colab-df-quickchart-complete:disabled,\n",
              "  .colab-df-quickchart-complete:disabled:hover {\n",
              "    background-color: var(--disabled-bg-color);\n",
              "    fill: var(--disabled-fill-color);\n",
              "    box-shadow: none;\n",
              "  }\n",
              "\n",
              "  .colab-df-spinner {\n",
              "    border: 2px solid var(--fill-color);\n",
              "    border-color: transparent;\n",
              "    border-bottom-color: var(--fill-color);\n",
              "    animation:\n",
              "      spin 1s steps(1) infinite;\n",
              "  }\n",
              "\n",
              "  @keyframes spin {\n",
              "    0% {\n",
              "      border-color: transparent;\n",
              "      border-bottom-color: var(--fill-color);\n",
              "      border-left-color: var(--fill-color);\n",
              "    }\n",
              "    20% {\n",
              "      border-color: transparent;\n",
              "      border-left-color: var(--fill-color);\n",
              "      border-top-color: var(--fill-color);\n",
              "    }\n",
              "    30% {\n",
              "      border-color: transparent;\n",
              "      border-left-color: var(--fill-color);\n",
              "      border-top-color: var(--fill-color);\n",
              "      border-right-color: var(--fill-color);\n",
              "    }\n",
              "    40% {\n",
              "      border-color: transparent;\n",
              "      border-right-color: var(--fill-color);\n",
              "      border-top-color: var(--fill-color);\n",
              "    }\n",
              "    60% {\n",
              "      border-color: transparent;\n",
              "      border-right-color: var(--fill-color);\n",
              "    }\n",
              "    80% {\n",
              "      border-color: transparent;\n",
              "      border-right-color: var(--fill-color);\n",
              "      border-bottom-color: var(--fill-color);\n",
              "    }\n",
              "    90% {\n",
              "      border-color: transparent;\n",
              "      border-bottom-color: var(--fill-color);\n",
              "    }\n",
              "  }\n",
              "</style>\n",
              "\n",
              "      <script>\n",
              "        async function quickchart(key) {\n",
              "          const quickchartButtonEl =\n",
              "            document.querySelector('#' + key + ' button');\n",
              "          quickchartButtonEl.disabled = true;  // To prevent multiple clicks.\n",
              "          quickchartButtonEl.classList.add('colab-df-spinner');\n",
              "          try {\n",
              "            const charts = await google.colab.kernel.invokeFunction(\n",
              "                'suggestCharts', [key], {});\n",
              "          } catch (error) {\n",
              "            console.error('Error during call to suggestCharts:', error);\n",
              "          }\n",
              "          quickchartButtonEl.classList.remove('colab-df-spinner');\n",
              "          quickchartButtonEl.classList.add('colab-df-quickchart-complete');\n",
              "        }\n",
              "        (() => {\n",
              "          let quickchartButtonEl =\n",
              "            document.querySelector('#df-25d6f084-a11f-4f61-9496-9dab118dd597 button');\n",
              "          quickchartButtonEl.style.display =\n",
              "            google.colab.kernel.accessAllowed ? 'block' : 'none';\n",
              "        })();\n",
              "      </script>\n",
              "    </div>\n",
              "\n",
              "  <div id=\"id_839f6ff9-310b-4e11-a40a-e3877baf2fde\">\n",
              "    <style>\n",
              "      .colab-df-generate {\n",
              "        background-color: #E8F0FE;\n",
              "        border: none;\n",
              "        border-radius: 50%;\n",
              "        cursor: pointer;\n",
              "        display: none;\n",
              "        fill: #1967D2;\n",
              "        height: 32px;\n",
              "        padding: 0 0 0 0;\n",
              "        width: 32px;\n",
              "      }\n",
              "\n",
              "      .colab-df-generate:hover {\n",
              "        background-color: #E2EBFA;\n",
              "        box-shadow: 0px 1px 2px rgba(60, 64, 67, 0.3), 0px 1px 3px 1px rgba(60, 64, 67, 0.15);\n",
              "        fill: #174EA6;\n",
              "      }\n",
              "\n",
              "      [theme=dark] .colab-df-generate {\n",
              "        background-color: #3B4455;\n",
              "        fill: #D2E3FC;\n",
              "      }\n",
              "\n",
              "      [theme=dark] .colab-df-generate:hover {\n",
              "        background-color: #434B5C;\n",
              "        box-shadow: 0px 1px 3px 1px rgba(0, 0, 0, 0.15);\n",
              "        filter: drop-shadow(0px 1px 2px rgba(0, 0, 0, 0.3));\n",
              "        fill: #FFFFFF;\n",
              "      }\n",
              "    </style>\n",
              "    <button class=\"colab-df-generate\" onclick=\"generateWithVariable('edges_df')\"\n",
              "            title=\"Generate code using this dataframe.\"\n",
              "            style=\"display:none;\">\n",
              "\n",
              "  <svg xmlns=\"http://www.w3.org/2000/svg\" height=\"24px\"viewBox=\"0 0 24 24\"\n",
              "       width=\"24px\">\n",
              "    <path d=\"M7,19H8.4L18.45,9,17,7.55,7,17.6ZM5,21V16.75L18.45,3.32a2,2,0,0,1,2.83,0l1.4,1.43a1.91,1.91,0,0,1,.58,1.4,1.91,1.91,0,0,1-.58,1.4L9.25,21ZM18.45,9,17,7.55Zm-12,3A5.31,5.31,0,0,0,4.9,8.1,5.31,5.31,0,0,0,1,6.5,5.31,5.31,0,0,0,4.9,4.9,5.31,5.31,0,0,0,6.5,1,5.31,5.31,0,0,0,8.1,4.9,5.31,5.31,0,0,0,12,6.5,5.46,5.46,0,0,0,6.5,12Z\"/>\n",
              "  </svg>\n",
              "    </button>\n",
              "    <script>\n",
              "      (() => {\n",
              "      const buttonEl =\n",
              "        document.querySelector('#id_839f6ff9-310b-4e11-a40a-e3877baf2fde button.colab-df-generate');\n",
              "      buttonEl.style.display =\n",
              "        google.colab.kernel.accessAllowed ? 'block' : 'none';\n",
              "\n",
              "      buttonEl.onclick = () => {\n",
              "        google.colab.notebook.generateWithVariable('edges_df');\n",
              "      }\n",
              "      })();\n",
              "    </script>\n",
              "  </div>\n",
              "\n",
              "    </div>\n",
              "  </div>\n"
            ],
            "text/plain": [
              "       from_title  to_title  count\n",
              "0               1    143751      2\n",
              "1               1    128620      1\n",
              "2               1    128612      2\n",
              "3               1    118944      1\n",
              "4               1     77175      1\n",
              "...           ...       ...    ...\n",
              "20741      867022    203442      1\n",
              "20742      867022    283833      1\n",
              "20743      867022    181673      1\n",
              "20744      867022      1181      1\n",
              "20745      867022    263939      1\n",
              "\n",
              "[18700924 rows x 3 columns]"
            ]
          },
          "execution_count": 10,
          "metadata": {},
          "output_type": "execute_result"
        }
      ],
      "source": [
        "edges_df"
      ]
    },
    {
      "cell_type": "code",
      "execution_count": null,
      "id": "1f-h_FDY4Let",
      "metadata": {
        "id": "1f-h_FDY4Let"
      },
      "outputs": [],
      "source": [
        "edges_df = edges_df.sort_values(['from_title', 'to_title'])"
      ]
    },
    {
      "cell_type": "code",
      "execution_count": null,
      "id": "9tzWr0xoSRzF",
      "metadata": {
        "id": "9tzWr0xoSRzF"
      },
      "outputs": [],
      "source": [
        "edges_df.to_csv('./edges_df.csv', index=False)"
      ]
    },
    {
      "cell_type": "code",
      "execution_count": null,
      "id": "MgGa6YG_Sk_r",
      "metadata": {
        "id": "MgGa6YG_Sk_r"
      },
      "outputs": [],
      "source": [
        "s_id_title.to_csv('./s_id_title.csv', index=False)"
      ]
    },
    {
      "cell_type": "markdown",
      "id": "s_NlBi3NG2U9",
      "metadata": {
        "id": "s_NlBi3NG2U9"
      },
      "source": [
        "양방향 연결이 모두 존재하는 경우만을 모은 `edges_undirected_df`를 만듭니다. 약 30초 소요됩니다."
      ]
    },
    {
      "cell_type": "code",
      "execution_count": null,
      "id": "9BIFEd8AGwQe",
      "metadata": {
        "id": "9BIFEd8AGwQe"
      },
      "outputs": [],
      "source": [
        "# Create a reversed version of the original edges\n",
        "reversed_df = edges_df.rename(columns={'from_title': 'to_title', 'to_title': 'from_title'})\n",
        "\n",
        "# Perform an inner merge to find mutual bidirectional edges\n",
        "bidirectional = edges_df.merge(reversed_df, on=['from_title', 'to_title'])\n",
        "\n",
        "# Calculate sum of inverses of counts to set it as weights\n",
        "bidirectional['weight'] = ((1 / bidirectional['count_x']) + (1 / bidirectional['count_y'])) / 2\n",
        "\n",
        "# Since both directions should be included, concatenate both directions\n",
        "edges_undirected_df = pd.concat([\n",
        "    bidirectional[['from_title', 'to_title', 'weight']],\n",
        "    bidirectional[['to_title', 'from_title', 'weight']].rename(columns={'to_title': 'from_title', 'from_title': 'to_title'})\n",
        "])\n",
        "\n",
        "# Drop duplicates just in case, and sort\n",
        "edges_undirected_df = edges_undirected_df.drop_duplicates().sort_values(['from_title', 'to_title']).reset_index(drop=True)\n",
        "\n",
        "edges_undirected_df.to_csv('./edges_undirected_df.csv', index=False)\n"
      ]
    },
    {
      "cell_type": "markdown",
      "id": "l3NLZG84CnDJ",
      "metadata": {
        "id": "l3NLZG84CnDJ"
      },
      "source": [
        "체크섬을 확인하여 동일한 결과를 얻었는지 확인합니다.\n",
        "- `f2c7e4cfc9895e3dc1eabc323f6fa6164eb515e5e229394bd2c795cf020ee391  ./s_id_title.csv`\n",
        "- `2b475e5fffb6e5154a3ae3dd6dc63f6b0c5261b50c914b316787a5c1e1c295e6  ./edges_df.csv`\n",
        "- `eb6ee598b1598a84e178922918b5264d0a57215cd9c5cdfcdd10f9cac17df652  ./edges_undirected_df.csv`"
      ]
    },
    {
      "cell_type": "code",
      "execution_count": null,
      "id": "73cV8hXmxQ1d",
      "metadata": {
        "colab": {
          "base_uri": "https://localhost:8080/"
        },
        "id": "73cV8hXmxQ1d",
        "outputId": "4b935613-9c8a-438d-9055-d7762ec3acb5"
      },
      "outputs": [
        {
          "name": "stdout",
          "output_type": "stream",
          "text": [
            "f2c7e4cfc9895e3dc1eabc323f6fa6164eb515e5e229394bd2c795cf020ee391  ./s_id_title.csv\n",
            "2b475e5fffb6e5154a3ae3dd6dc63f6b0c5261b50c914b316787a5c1e1c295e6  ./edges_df.csv\n",
            "eb6ee598b1598a84e178922918b5264d0a57215cd9c5cdfcdd10f9cac17df652  ./edges_undirected_df.csv\n"
          ]
        }
      ],
      "source": [
        "!sha256sum ./s_id_title.csv\n",
        "!sha256sum ./edges_df.csv\n",
        "!sha256sum ./edges_undirected_df.csv"
      ]
    },
    {
      "cell_type": "code",
      "execution_count": null,
      "id": "-FHURqBcPLDK",
      "metadata": {
        "id": "-FHURqBcPLDK"
      },
      "outputs": [],
      "source": []
    }
  ],
  "metadata": {
    "colab": {
      "provenance": []
    },
    "kernelspec": {
      "display_name": "crawling",
      "language": "python",
      "name": "python3"
    },
    "language_info": {
      "codemirror_mode": {
        "name": "ipython",
        "version": 3
      },
      "file_extension": ".py",
      "mimetype": "text/x-python",
      "name": "python",
      "nbconvert_exporter": "python",
      "pygments_lexer": "ipython3",
      "version": "3.12.9"
    },
    "widgets": {
      "application/vnd.jupyter.widget-state+json": {
        "2aa846e98d1240b99fdc7c86cb9db76b": {
          "model_module": "@jupyter-widgets/controls",
          "model_module_version": "1.5.0",
          "model_name": "DescriptionStyleModel",
          "state": {
            "_model_module": "@jupyter-widgets/controls",
            "_model_module_version": "1.5.0",
            "_model_name": "DescriptionStyleModel",
            "_view_count": null,
            "_view_module": "@jupyter-widgets/base",
            "_view_module_version": "1.2.0",
            "_view_name": "StyleView",
            "description_width": ""
          }
        },
        "3c5221a42b644ce4a10c73e6bc659a44": {
          "model_module": "@jupyter-widgets/controls",
          "model_module_version": "1.5.0",
          "model_name": "DescriptionStyleModel",
          "state": {
            "_model_module": "@jupyter-widgets/controls",
            "_model_module_version": "1.5.0",
            "_model_name": "DescriptionStyleModel",
            "_view_count": null,
            "_view_module": "@jupyter-widgets/base",
            "_view_module_version": "1.2.0",
            "_view_name": "StyleView",
            "description_width": ""
          }
        },
        "3d672cba5db64bd2a5321f71f40b09d1": {
          "model_module": "@jupyter-widgets/controls",
          "model_module_version": "1.5.0",
          "model_name": "HBoxModel",
          "state": {
            "_dom_classes": [],
            "_model_module": "@jupyter-widgets/controls",
            "_model_module_version": "1.5.0",
            "_model_name": "HBoxModel",
            "_view_count": null,
            "_view_module": "@jupyter-widgets/controls",
            "_view_module_version": "1.5.0",
            "_view_name": "HBoxView",
            "box_style": "",
            "children": [
              "IPY_MODEL_968f8512627f4175871534d34067924d",
              "IPY_MODEL_bb6c23dc6f7c46b0ac0631b81ea1a0fa",
              "IPY_MODEL_4ae397e5934d40d689a0986dd08240b1"
            ],
            "layout": "IPY_MODEL_f3d6a03081ed48d2942590dbf0f288fe"
          }
        },
        "45bfcf6196ef4d49b632facaa8c20917": {
          "model_module": "@jupyter-widgets/base",
          "model_module_version": "1.2.0",
          "model_name": "LayoutModel",
          "state": {
            "_model_module": "@jupyter-widgets/base",
            "_model_module_version": "1.2.0",
            "_model_name": "LayoutModel",
            "_view_count": null,
            "_view_module": "@jupyter-widgets/base",
            "_view_module_version": "1.2.0",
            "_view_name": "LayoutView",
            "align_content": null,
            "align_items": null,
            "align_self": null,
            "border": null,
            "bottom": null,
            "display": null,
            "flex": null,
            "flex_flow": null,
            "grid_area": null,
            "grid_auto_columns": null,
            "grid_auto_flow": null,
            "grid_auto_rows": null,
            "grid_column": null,
            "grid_gap": null,
            "grid_row": null,
            "grid_template_areas": null,
            "grid_template_columns": null,
            "grid_template_rows": null,
            "height": null,
            "justify_content": null,
            "justify_items": null,
            "left": null,
            "margin": null,
            "max_height": null,
            "max_width": null,
            "min_height": null,
            "min_width": null,
            "object_fit": null,
            "object_position": null,
            "order": null,
            "overflow": null,
            "overflow_x": null,
            "overflow_y": null,
            "padding": null,
            "right": null,
            "top": null,
            "visibility": null,
            "width": null
          }
        },
        "4ae397e5934d40d689a0986dd08240b1": {
          "model_module": "@jupyter-widgets/controls",
          "model_module_version": "1.5.0",
          "model_name": "HTMLModel",
          "state": {
            "_dom_classes": [],
            "_model_module": "@jupyter-widgets/controls",
            "_model_module_version": "1.5.0",
            "_model_name": "HTMLModel",
            "_view_count": null,
            "_view_module": "@jupyter-widgets/controls",
            "_view_module_version": "1.5.0",
            "_view_name": "HTMLView",
            "description": "",
            "description_tooltip": null,
            "layout": "IPY_MODEL_45bfcf6196ef4d49b632facaa8c20917",
            "placeholder": "​",
            "style": "IPY_MODEL_2aa846e98d1240b99fdc7c86cb9db76b",
            "value": " 3.03G/3.03G [00:29&lt;00:00, 173MB/s]"
          }
        },
        "4f3ab2bdf681404c86f7cd7ee378faab": {
          "model_module": "@jupyter-widgets/base",
          "model_module_version": "1.2.0",
          "model_name": "LayoutModel",
          "state": {
            "_model_module": "@jupyter-widgets/base",
            "_model_module_version": "1.2.0",
            "_model_name": "LayoutModel",
            "_view_count": null,
            "_view_module": "@jupyter-widgets/base",
            "_view_module_version": "1.2.0",
            "_view_name": "LayoutView",
            "align_content": null,
            "align_items": null,
            "align_self": null,
            "border": null,
            "bottom": null,
            "display": null,
            "flex": null,
            "flex_flow": null,
            "grid_area": null,
            "grid_auto_columns": null,
            "grid_auto_flow": null,
            "grid_auto_rows": null,
            "grid_column": null,
            "grid_gap": null,
            "grid_row": null,
            "grid_template_areas": null,
            "grid_template_columns": null,
            "grid_template_rows": null,
            "height": null,
            "justify_content": null,
            "justify_items": null,
            "left": null,
            "margin": null,
            "max_height": null,
            "max_width": null,
            "min_height": null,
            "min_width": null,
            "object_fit": null,
            "object_position": null,
            "order": null,
            "overflow": null,
            "overflow_x": null,
            "overflow_y": null,
            "padding": null,
            "right": null,
            "top": null,
            "visibility": null,
            "width": null
          }
        },
        "8e0b70697f2f43fcb4e5ab9120d08cb7": {
          "model_module": "@jupyter-widgets/controls",
          "model_module_version": "1.5.0",
          "model_name": "ProgressStyleModel",
          "state": {
            "_model_module": "@jupyter-widgets/controls",
            "_model_module_version": "1.5.0",
            "_model_name": "ProgressStyleModel",
            "_view_count": null,
            "_view_module": "@jupyter-widgets/base",
            "_view_module_version": "1.2.0",
            "_view_name": "StyleView",
            "bar_color": null,
            "description_width": ""
          }
        },
        "968f8512627f4175871534d34067924d": {
          "model_module": "@jupyter-widgets/controls",
          "model_module_version": "1.5.0",
          "model_name": "HTMLModel",
          "state": {
            "_dom_classes": [],
            "_model_module": "@jupyter-widgets/controls",
            "_model_module_version": "1.5.0",
            "_model_name": "HTMLModel",
            "_view_count": null,
            "_view_module": "@jupyter-widgets/controls",
            "_view_module_version": "1.5.0",
            "_view_name": "HTMLView",
            "description": "",
            "description_tooltip": null,
            "layout": "IPY_MODEL_4f3ab2bdf681404c86f7cd7ee378faab",
            "placeholder": "​",
            "style": "IPY_MODEL_3c5221a42b644ce4a10c73e6bc659a44",
            "value": "namuwiki_20210301.parquet: 100%"
          }
        },
        "bb6c23dc6f7c46b0ac0631b81ea1a0fa": {
          "model_module": "@jupyter-widgets/controls",
          "model_module_version": "1.5.0",
          "model_name": "FloatProgressModel",
          "state": {
            "_dom_classes": [],
            "_model_module": "@jupyter-widgets/controls",
            "_model_module_version": "1.5.0",
            "_model_name": "FloatProgressModel",
            "_view_count": null,
            "_view_module": "@jupyter-widgets/controls",
            "_view_module_version": "1.5.0",
            "_view_name": "ProgressView",
            "bar_style": "success",
            "description": "",
            "description_tooltip": null,
            "layout": "IPY_MODEL_bfb9f6b6a7ed441a9ec5fb09db8a569e",
            "max": 3029535785,
            "min": 0,
            "orientation": "horizontal",
            "style": "IPY_MODEL_8e0b70697f2f43fcb4e5ab9120d08cb7",
            "value": 3029535785
          }
        },
        "bfb9f6b6a7ed441a9ec5fb09db8a569e": {
          "model_module": "@jupyter-widgets/base",
          "model_module_version": "1.2.0",
          "model_name": "LayoutModel",
          "state": {
            "_model_module": "@jupyter-widgets/base",
            "_model_module_version": "1.2.0",
            "_model_name": "LayoutModel",
            "_view_count": null,
            "_view_module": "@jupyter-widgets/base",
            "_view_module_version": "1.2.0",
            "_view_name": "LayoutView",
            "align_content": null,
            "align_items": null,
            "align_self": null,
            "border": null,
            "bottom": null,
            "display": null,
            "flex": null,
            "flex_flow": null,
            "grid_area": null,
            "grid_auto_columns": null,
            "grid_auto_flow": null,
            "grid_auto_rows": null,
            "grid_column": null,
            "grid_gap": null,
            "grid_row": null,
            "grid_template_areas": null,
            "grid_template_columns": null,
            "grid_template_rows": null,
            "height": null,
            "justify_content": null,
            "justify_items": null,
            "left": null,
            "margin": null,
            "max_height": null,
            "max_width": null,
            "min_height": null,
            "min_width": null,
            "object_fit": null,
            "object_position": null,
            "order": null,
            "overflow": null,
            "overflow_x": null,
            "overflow_y": null,
            "padding": null,
            "right": null,
            "top": null,
            "visibility": null,
            "width": null
          }
        },
        "f3d6a03081ed48d2942590dbf0f288fe": {
          "model_module": "@jupyter-widgets/base",
          "model_module_version": "1.2.0",
          "model_name": "LayoutModel",
          "state": {
            "_model_module": "@jupyter-widgets/base",
            "_model_module_version": "1.2.0",
            "_model_name": "LayoutModel",
            "_view_count": null,
            "_view_module": "@jupyter-widgets/base",
            "_view_module_version": "1.2.0",
            "_view_name": "LayoutView",
            "align_content": null,
            "align_items": null,
            "align_self": null,
            "border": null,
            "bottom": null,
            "display": null,
            "flex": null,
            "flex_flow": null,
            "grid_area": null,
            "grid_auto_columns": null,
            "grid_auto_flow": null,
            "grid_auto_rows": null,
            "grid_column": null,
            "grid_gap": null,
            "grid_row": null,
            "grid_template_areas": null,
            "grid_template_columns": null,
            "grid_template_rows": null,
            "height": null,
            "justify_content": null,
            "justify_items": null,
            "left": null,
            "margin": null,
            "max_height": null,
            "max_width": null,
            "min_height": null,
            "min_width": null,
            "object_fit": null,
            "object_position": null,
            "order": null,
            "overflow": null,
            "overflow_x": null,
            "overflow_y": null,
            "padding": null,
            "right": null,
            "top": null,
            "visibility": null,
            "width": null
          }
        }
      }
    }
  },
  "nbformat": 4,
  "nbformat_minor": 5
}
