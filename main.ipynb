{
  "cells": [
    {
      "cell_type": "markdown",
      "source": [
        "# import libraries\n",
        "코랩 환경에서 실행하였습니다. 데이터 다운로드 및 처리에 필요한 라이브러리를 다운로드 받고 임포트합니다."
      ],
      "metadata": {
        "id": "DmRuWQ34Dc62"
      },
      "id": "DmRuWQ34Dc62"
    },
    {
      "cell_type": "code",
      "execution_count": null,
      "id": "32191537",
      "metadata": {
        "id": "32191537",
        "colab": {
          "base_uri": "https://localhost:8080/"
        },
        "outputId": "114fcf67-e662-4413-9d51-a7db9dcc32ff"
      },
      "outputs": [
        {
          "output_type": "stream",
          "name": "stdout",
          "text": [
            "Requirement already satisfied: ijson in /usr/local/lib/python3.11/dist-packages (3.4.0)\n",
            "Requirement already satisfied: fastparquet in /usr/local/lib/python3.11/dist-packages (2024.11.0)\n",
            "Requirement already satisfied: pandas>=1.5.0 in /usr/local/lib/python3.11/dist-packages (from fastparquet) (2.2.2)\n",
            "Requirement already satisfied: numpy in /usr/local/lib/python3.11/dist-packages (from fastparquet) (2.0.2)\n",
            "Requirement already satisfied: cramjam>=2.3 in /usr/local/lib/python3.11/dist-packages (from fastparquet) (2.10.0)\n",
            "Requirement already satisfied: fsspec in /usr/local/lib/python3.11/dist-packages (from fastparquet) (2025.3.2)\n",
            "Requirement already satisfied: packaging in /usr/local/lib/python3.11/dist-packages (from fastparquet) (24.2)\n",
            "Requirement already satisfied: python-dateutil>=2.8.2 in /usr/local/lib/python3.11/dist-packages (from pandas>=1.5.0->fastparquet) (2.9.0.post0)\n",
            "Requirement already satisfied: pytz>=2020.1 in /usr/local/lib/python3.11/dist-packages (from pandas>=1.5.0->fastparquet) (2025.2)\n",
            "Requirement already satisfied: tzdata>=2022.7 in /usr/local/lib/python3.11/dist-packages (from pandas>=1.5.0->fastparquet) (2025.2)\n",
            "Requirement already satisfied: six>=1.5 in /usr/local/lib/python3.11/dist-packages (from python-dateutil>=2.8.2->pandas>=1.5.0->fastparquet) (1.17.0)\n"
          ]
        }
      ],
      "source": [
        "!pip install ijson\n",
        "!pip install fastparquet"
      ]
    },
    {
      "cell_type": "code",
      "execution_count": null,
      "id": "69f8bf48",
      "metadata": {
        "id": "69f8bf48"
      },
      "outputs": [],
      "source": [
        "from collections import Counter, defaultdict\n",
        "import heapq\n",
        "\n",
        "from huggingface_hub import hf_hub_download\n",
        "from tqdm import tqdm\n",
        "import dask.dataframe as dd\n",
        "import pandas as pd"
      ]
    },
    {
      "cell_type": "markdown",
      "source": [
        "# 그래프 데이터 생성\n",
        "\n",
        "코랩 환경에서 약 35분 소요되었습니다. 이 부분은 뒤의 데이터 로딩 코드로 대체할 수 있습니다."
      ],
      "metadata": {
        "id": "tdDWfMrvDp7f"
      },
      "id": "tdDWfMrvDp7f"
    },
    {
      "cell_type": "markdown",
      "source": [
        "## 데이터 다운로드\n",
        "나무위키 문서 데이터셋을 다운로드하고 dask 라이브러리를 사용해 불러옵니다.\n",
        "\n",
        "데이터셋 크기가 매우 커서 pandas를 사용하여 한 번에 불러올 수 없습니다."
      ],
      "metadata": {
        "id": "Y03pHm0GlIsa"
      },
      "id": "Y03pHm0GlIsa"
    },
    {
      "cell_type": "code",
      "execution_count": null,
      "id": "f5f78661",
      "metadata": {
        "colab": {
          "base_uri": "https://localhost:8080/",
          "height": 181,
          "referenced_widgets": [
            "3d672cba5db64bd2a5321f71f40b09d1",
            "968f8512627f4175871534d34067924d",
            "bb6c23dc6f7c46b0ac0631b81ea1a0fa",
            "4ae397e5934d40d689a0986dd08240b1",
            "f3d6a03081ed48d2942590dbf0f288fe",
            "4f3ab2bdf681404c86f7cd7ee378faab",
            "3c5221a42b644ce4a10c73e6bc659a44",
            "bfb9f6b6a7ed441a9ec5fb09db8a569e",
            "8e0b70697f2f43fcb4e5ab9120d08cb7",
            "45bfcf6196ef4d49b632facaa8c20917",
            "2aa846e98d1240b99fdc7c86cb9db76b"
          ]
        },
        "id": "f5f78661",
        "outputId": "6f1ef359-76a2-4695-cc3d-4bd56c1d4c73"
      },
      "outputs": [
        {
          "output_type": "stream",
          "name": "stderr",
          "text": [
            "/usr/local/lib/python3.11/dist-packages/huggingface_hub/utils/_auth.py:94: UserWarning: \n",
            "The secret `HF_TOKEN` does not exist in your Colab secrets.\n",
            "To authenticate with the Hugging Face Hub, create a token in your settings tab (https://huggingface.co/settings/tokens), set it as secret in your Google Colab and restart your session.\n",
            "You will be able to reuse this secret in all of your notebooks.\n",
            "Please note that authentication is recommended but still optional to access public models or datasets.\n",
            "  warnings.warn(\n"
          ]
        },
        {
          "output_type": "display_data",
          "data": {
            "text/plain": [
              "namuwiki_20210301.parquet:   0%|          | 0.00/3.03G [00:00<?, ?B/s]"
            ],
            "application/vnd.jupyter.widget-view+json": {
              "version_major": 2,
              "version_minor": 0,
              "model_id": "3d672cba5db64bd2a5321f71f40b09d1"
            }
          },
          "metadata": {}
        }
      ],
      "source": [
        "# Download with progress bar\n",
        "file_path = hf_hub_download(\n",
        "    repo_id=\"heegyu/namuwiki\", repo_type='dataset', filename=\"namuwiki_20210301.parquet\")"
      ]
    },
    {
      "cell_type": "code",
      "source": [
        "# Load the Parquet file\n",
        "ddf = dd.read_parquet(file_path)"
      ],
      "metadata": {
        "id": "MTZt_z8bgX4d"
      },
      "id": "MTZt_z8bgX4d",
      "execution_count": null,
      "outputs": []
    },
    {
      "cell_type": "markdown",
      "source": [
        "## 데이터 처리\n",
        "\n"
      ],
      "metadata": {
        "id": "WB7enmnxE1Y_"
      },
      "id": "WB7enmnxE1Y_"
    },
    {
      "cell_type": "markdown",
      "source": [
        "나무위키 문법에서 링크를 나타내는 `[[...]]` 부분을 추출하는 함수입니다.\n",
        "\n",
        "각주(`[*...]`) 안은 무시합니다."
      ],
      "metadata": {
        "id": "H26SEbb_E92F"
      },
      "id": "H26SEbb_E92F"
    },
    {
      "cell_type": "code",
      "source": [
        "def extract_double_bracket_links(text):\n",
        "    \"\"\"\n",
        "    Extracts [[...]]-style links from text with filtering rules:\n",
        "    - Only the part before '|' is kept, if present.\n",
        "    - Links inside [* ... ] blocks are ignored.\n",
        "    - Links starting with '파일:', 'http://', or 'https://' are ignored.\n",
        "\n",
        "    Parameters:\n",
        "        text (str): Input string.\n",
        "\n",
        "    Returns:\n",
        "        dict: Dictionary of valid link targets with occurrence counts.\n",
        "    \"\"\"\n",
        "    results = []\n",
        "    i = 0\n",
        "    n = len(text)\n",
        "    in_footnote = False\n",
        "\n",
        "    while i < n:\n",
        "        if not in_footnote and text[i:i+2] == \"[*\":\n",
        "            in_footnote = True\n",
        "            i += 2\n",
        "\n",
        "        elif text[i:i+2] == \"[[\":\n",
        "            end = text.find(\"]]\", i + 2)\n",
        "            if end == -1:\n",
        "                break  # No matching ]]\n",
        "            content = text[i+2:end]\n",
        "            i = end + 2\n",
        "\n",
        "            if in_footnote:\n",
        "                continue\n",
        "\n",
        "            # Remove after | if exists\n",
        "            if \"|\" in content:\n",
        "                content = content.split(\"|\", 1)[0]\n",
        "\n",
        "            # Filter unwanted prefixes\n",
        "            if not (\n",
        "                content.startswith(\"파일:\") or\n",
        "                content.startswith(\"http://\") or\n",
        "                content.startswith(\"https://\")\n",
        "            ):\n",
        "                results.append(content)\n",
        "\n",
        "\n",
        "        elif in_footnote and text[i] == \"]\":\n",
        "            in_footnote = False\n",
        "            i += 1\n",
        "\n",
        "        else:\n",
        "            i += 1\n",
        "\n",
        "    return dict(Counter(results))\n"
      ],
      "metadata": {
        "id": "wuC40EqbisSm"
      },
      "id": "wuC40EqbisSm",
      "execution_count": null,
      "outputs": []
    },
    {
      "cell_type": "markdown",
      "source": [
        "빠른 접근을 위해 id와 title 각각을 인덱스로 하는 Series를 만듭니다."
      ],
      "metadata": {
        "id": "WEgis4wEnBaH"
      },
      "id": "WEgis4wEnBaH"
    },
    {
      "cell_type": "code",
      "source": [
        "s_id_title = ddf['title'].compute().reset_index(drop=True)\n",
        "s_title_id = s_id_title.reset_index().set_index('title', verify_integrity=True)['index'].sort_index()"
      ],
      "metadata": {
        "id": "uHiPcaphuPfl"
      },
      "id": "uHiPcaphuPfl",
      "execution_count": null,
      "outputs": []
    },
    {
      "cell_type": "markdown",
      "source": [
        "문서 텍스트 데이터를 분석하여 문서 간 연결 관계를 저장하는 DataFrame을 만듭니다."
      ],
      "metadata": {
        "id": "hbUN--hJnL2A"
      },
      "id": "hbUN--hJnL2A"
    },
    {
      "cell_type": "code",
      "source": [
        "def create_link_edges_dataframe_dask(df_dask):\n",
        "    # Use a closure to pass the mapping and link extractor\n",
        "    def partition_func(partition_df):\n",
        "        print('running partition')\n",
        "        # records = []\n",
        "\n",
        "        # for row in partition_df.itertuples(index=False):\n",
        "        #     from_title = row.title\n",
        "        #     text = row.text\n",
        "        #     links = extract_double_bracket_links(text)\n",
        "\n",
        "        #     for to_title, count in links.items():\n",
        "        #         if to_title in s_title_id.index:\n",
        "        #             records.append((s_title_id.loc[from_title], s_title_id.loc[to_title], count))\n",
        "\n",
        "        records = (\n",
        "            (s_title_id.loc[row.title], s_title_id.loc[to_title], count)\n",
        "            for row in partition_df.itertuples(index=False)\n",
        "            for to_title, count in extract_double_bracket_links(row.text).items()\n",
        "            if to_title in s_title_id.index\n",
        "        )\n",
        "\n",
        "        return pd.DataFrame(records, columns=['from_title', 'to_title', 'count'])\n",
        "\n",
        "    # Apply per partition\n",
        "    link_df = df_dask.map_partitions(partition_func, meta={'from_title': int, 'to_title': int, 'count': int})\n",
        "\n",
        "    return link_df\n"
      ],
      "metadata": {
        "id": "_y1oT5lJxa6m"
      },
      "id": "_y1oT5lJxa6m",
      "execution_count": null,
      "outputs": []
    },
    {
      "cell_type": "code",
      "source": [
        "edges_df = create_link_edges_dataframe_dask(ddf).compute()"
      ],
      "metadata": {
        "colab": {
          "base_uri": "https://localhost:8080/"
        },
        "id": "vmoI_gu_yWxC",
        "outputId": "12ff3062-8f86-44c9-c7bd-c6cc4a971c5b"
      },
      "id": "vmoI_gu_yWxC",
      "execution_count": null,
      "outputs": [
        {
          "output_type": "stream",
          "name": "stdout",
          "text": [
            "running partition\n",
            "running partition\n",
            "running partition\n",
            "running partition\n",
            "running partition\n",
            "running partition\n",
            "running partition\n",
            "running partition\n",
            "running partition\n",
            "running partition\n",
            "running partition\n",
            "running partition\n",
            "running partition\n",
            "running partition\n",
            "running partition\n",
            "running partition\n",
            "running partition\n",
            "running partition\n",
            "running partition\n",
            "running partition\n",
            "running partition\n",
            "running partition\n",
            "running partition\n",
            "running partition\n",
            "running partition\n",
            "running partition\n",
            "running partition\n",
            "running partition\n",
            "running partition\n",
            "running partition\n",
            "running partition\n",
            "running partition\n",
            "running partition\n",
            "running partition\n"
          ]
        }
      ]
    },
    {
      "cell_type": "code",
      "source": [
        "edges_df"
      ],
      "metadata": {
        "colab": {
          "base_uri": "https://localhost:8080/",
          "height": 423
        },
        "id": "FBG1AlspH03y",
        "outputId": "f4d4df2f-44cb-46c9-b443-73978ae00b87"
      },
      "id": "FBG1AlspH03y",
      "execution_count": null,
      "outputs": [
        {
          "output_type": "execute_result",
          "data": {
            "text/plain": [
              "       from_title  to_title  count\n",
              "0               1    143751      2\n",
              "1               1    128620      1\n",
              "2               1    128612      2\n",
              "3               1    118944      1\n",
              "4               1     77175      1\n",
              "...           ...       ...    ...\n",
              "20741      867022    203442      1\n",
              "20742      867022    283833      1\n",
              "20743      867022    181673      1\n",
              "20744      867022      1181      1\n",
              "20745      867022    263939      1\n",
              "\n",
              "[18700924 rows x 3 columns]"
            ],
            "text/html": [
              "\n",
              "  <div id=\"df-0b22e305-d737-44e5-bbf3-654620d1c6dd\" class=\"colab-df-container\">\n",
              "    <div>\n",
              "<style scoped>\n",
              "    .dataframe tbody tr th:only-of-type {\n",
              "        vertical-align: middle;\n",
              "    }\n",
              "\n",
              "    .dataframe tbody tr th {\n",
              "        vertical-align: top;\n",
              "    }\n",
              "\n",
              "    .dataframe thead th {\n",
              "        text-align: right;\n",
              "    }\n",
              "</style>\n",
              "<table border=\"1\" class=\"dataframe\">\n",
              "  <thead>\n",
              "    <tr style=\"text-align: right;\">\n",
              "      <th></th>\n",
              "      <th>from_title</th>\n",
              "      <th>to_title</th>\n",
              "      <th>count</th>\n",
              "    </tr>\n",
              "  </thead>\n",
              "  <tbody>\n",
              "    <tr>\n",
              "      <th>0</th>\n",
              "      <td>1</td>\n",
              "      <td>143751</td>\n",
              "      <td>2</td>\n",
              "    </tr>\n",
              "    <tr>\n",
              "      <th>1</th>\n",
              "      <td>1</td>\n",
              "      <td>128620</td>\n",
              "      <td>1</td>\n",
              "    </tr>\n",
              "    <tr>\n",
              "      <th>2</th>\n",
              "      <td>1</td>\n",
              "      <td>128612</td>\n",
              "      <td>2</td>\n",
              "    </tr>\n",
              "    <tr>\n",
              "      <th>3</th>\n",
              "      <td>1</td>\n",
              "      <td>118944</td>\n",
              "      <td>1</td>\n",
              "    </tr>\n",
              "    <tr>\n",
              "      <th>4</th>\n",
              "      <td>1</td>\n",
              "      <td>77175</td>\n",
              "      <td>1</td>\n",
              "    </tr>\n",
              "    <tr>\n",
              "      <th>...</th>\n",
              "      <td>...</td>\n",
              "      <td>...</td>\n",
              "      <td>...</td>\n",
              "    </tr>\n",
              "    <tr>\n",
              "      <th>20741</th>\n",
              "      <td>867022</td>\n",
              "      <td>203442</td>\n",
              "      <td>1</td>\n",
              "    </tr>\n",
              "    <tr>\n",
              "      <th>20742</th>\n",
              "      <td>867022</td>\n",
              "      <td>283833</td>\n",
              "      <td>1</td>\n",
              "    </tr>\n",
              "    <tr>\n",
              "      <th>20743</th>\n",
              "      <td>867022</td>\n",
              "      <td>181673</td>\n",
              "      <td>1</td>\n",
              "    </tr>\n",
              "    <tr>\n",
              "      <th>20744</th>\n",
              "      <td>867022</td>\n",
              "      <td>1181</td>\n",
              "      <td>1</td>\n",
              "    </tr>\n",
              "    <tr>\n",
              "      <th>20745</th>\n",
              "      <td>867022</td>\n",
              "      <td>263939</td>\n",
              "      <td>1</td>\n",
              "    </tr>\n",
              "  </tbody>\n",
              "</table>\n",
              "<p>18700924 rows × 3 columns</p>\n",
              "</div>\n",
              "    <div class=\"colab-df-buttons\">\n",
              "\n",
              "  <div class=\"colab-df-container\">\n",
              "    <button class=\"colab-df-convert\" onclick=\"convertToInteractive('df-0b22e305-d737-44e5-bbf3-654620d1c6dd')\"\n",
              "            title=\"Convert this dataframe to an interactive table.\"\n",
              "            style=\"display:none;\">\n",
              "\n",
              "  <svg xmlns=\"http://www.w3.org/2000/svg\" height=\"24px\" viewBox=\"0 -960 960 960\">\n",
              "    <path d=\"M120-120v-720h720v720H120Zm60-500h600v-160H180v160Zm220 220h160v-160H400v160Zm0 220h160v-160H400v160ZM180-400h160v-160H180v160Zm440 0h160v-160H620v160ZM180-180h160v-160H180v160Zm440 0h160v-160H620v160Z\"/>\n",
              "  </svg>\n",
              "    </button>\n",
              "\n",
              "  <style>\n",
              "    .colab-df-container {\n",
              "      display:flex;\n",
              "      gap: 12px;\n",
              "    }\n",
              "\n",
              "    .colab-df-convert {\n",
              "      background-color: #E8F0FE;\n",
              "      border: none;\n",
              "      border-radius: 50%;\n",
              "      cursor: pointer;\n",
              "      display: none;\n",
              "      fill: #1967D2;\n",
              "      height: 32px;\n",
              "      padding: 0 0 0 0;\n",
              "      width: 32px;\n",
              "    }\n",
              "\n",
              "    .colab-df-convert:hover {\n",
              "      background-color: #E2EBFA;\n",
              "      box-shadow: 0px 1px 2px rgba(60, 64, 67, 0.3), 0px 1px 3px 1px rgba(60, 64, 67, 0.15);\n",
              "      fill: #174EA6;\n",
              "    }\n",
              "\n",
              "    .colab-df-buttons div {\n",
              "      margin-bottom: 4px;\n",
              "    }\n",
              "\n",
              "    [theme=dark] .colab-df-convert {\n",
              "      background-color: #3B4455;\n",
              "      fill: #D2E3FC;\n",
              "    }\n",
              "\n",
              "    [theme=dark] .colab-df-convert:hover {\n",
              "      background-color: #434B5C;\n",
              "      box-shadow: 0px 1px 3px 1px rgba(0, 0, 0, 0.15);\n",
              "      filter: drop-shadow(0px 1px 2px rgba(0, 0, 0, 0.3));\n",
              "      fill: #FFFFFF;\n",
              "    }\n",
              "  </style>\n",
              "\n",
              "    <script>\n",
              "      const buttonEl =\n",
              "        document.querySelector('#df-0b22e305-d737-44e5-bbf3-654620d1c6dd button.colab-df-convert');\n",
              "      buttonEl.style.display =\n",
              "        google.colab.kernel.accessAllowed ? 'block' : 'none';\n",
              "\n",
              "      async function convertToInteractive(key) {\n",
              "        const element = document.querySelector('#df-0b22e305-d737-44e5-bbf3-654620d1c6dd');\n",
              "        const dataTable =\n",
              "          await google.colab.kernel.invokeFunction('convertToInteractive',\n",
              "                                                    [key], {});\n",
              "        if (!dataTable) return;\n",
              "\n",
              "        const docLinkHtml = 'Like what you see? Visit the ' +\n",
              "          '<a target=\"_blank\" href=https://colab.research.google.com/notebooks/data_table.ipynb>data table notebook</a>'\n",
              "          + ' to learn more about interactive tables.';\n",
              "        element.innerHTML = '';\n",
              "        dataTable['output_type'] = 'display_data';\n",
              "        await google.colab.output.renderOutput(dataTable, element);\n",
              "        const docLink = document.createElement('div');\n",
              "        docLink.innerHTML = docLinkHtml;\n",
              "        element.appendChild(docLink);\n",
              "      }\n",
              "    </script>\n",
              "  </div>\n",
              "\n",
              "\n",
              "    <div id=\"df-25d6f084-a11f-4f61-9496-9dab118dd597\">\n",
              "      <button class=\"colab-df-quickchart\" onclick=\"quickchart('df-25d6f084-a11f-4f61-9496-9dab118dd597')\"\n",
              "                title=\"Suggest charts\"\n",
              "                style=\"display:none;\">\n",
              "\n",
              "<svg xmlns=\"http://www.w3.org/2000/svg\" height=\"24px\"viewBox=\"0 0 24 24\"\n",
              "     width=\"24px\">\n",
              "    <g>\n",
              "        <path d=\"M19 3H5c-1.1 0-2 .9-2 2v14c0 1.1.9 2 2 2h14c1.1 0 2-.9 2-2V5c0-1.1-.9-2-2-2zM9 17H7v-7h2v7zm4 0h-2V7h2v10zm4 0h-2v-4h2v4z\"/>\n",
              "    </g>\n",
              "</svg>\n",
              "      </button>\n",
              "\n",
              "<style>\n",
              "  .colab-df-quickchart {\n",
              "      --bg-color: #E8F0FE;\n",
              "      --fill-color: #1967D2;\n",
              "      --hover-bg-color: #E2EBFA;\n",
              "      --hover-fill-color: #174EA6;\n",
              "      --disabled-fill-color: #AAA;\n",
              "      --disabled-bg-color: #DDD;\n",
              "  }\n",
              "\n",
              "  [theme=dark] .colab-df-quickchart {\n",
              "      --bg-color: #3B4455;\n",
              "      --fill-color: #D2E3FC;\n",
              "      --hover-bg-color: #434B5C;\n",
              "      --hover-fill-color: #FFFFFF;\n",
              "      --disabled-bg-color: #3B4455;\n",
              "      --disabled-fill-color: #666;\n",
              "  }\n",
              "\n",
              "  .colab-df-quickchart {\n",
              "    background-color: var(--bg-color);\n",
              "    border: none;\n",
              "    border-radius: 50%;\n",
              "    cursor: pointer;\n",
              "    display: none;\n",
              "    fill: var(--fill-color);\n",
              "    height: 32px;\n",
              "    padding: 0;\n",
              "    width: 32px;\n",
              "  }\n",
              "\n",
              "  .colab-df-quickchart:hover {\n",
              "    background-color: var(--hover-bg-color);\n",
              "    box-shadow: 0 1px 2px rgba(60, 64, 67, 0.3), 0 1px 3px 1px rgba(60, 64, 67, 0.15);\n",
              "    fill: var(--button-hover-fill-color);\n",
              "  }\n",
              "\n",
              "  .colab-df-quickchart-complete:disabled,\n",
              "  .colab-df-quickchart-complete:disabled:hover {\n",
              "    background-color: var(--disabled-bg-color);\n",
              "    fill: var(--disabled-fill-color);\n",
              "    box-shadow: none;\n",
              "  }\n",
              "\n",
              "  .colab-df-spinner {\n",
              "    border: 2px solid var(--fill-color);\n",
              "    border-color: transparent;\n",
              "    border-bottom-color: var(--fill-color);\n",
              "    animation:\n",
              "      spin 1s steps(1) infinite;\n",
              "  }\n",
              "\n",
              "  @keyframes spin {\n",
              "    0% {\n",
              "      border-color: transparent;\n",
              "      border-bottom-color: var(--fill-color);\n",
              "      border-left-color: var(--fill-color);\n",
              "    }\n",
              "    20% {\n",
              "      border-color: transparent;\n",
              "      border-left-color: var(--fill-color);\n",
              "      border-top-color: var(--fill-color);\n",
              "    }\n",
              "    30% {\n",
              "      border-color: transparent;\n",
              "      border-left-color: var(--fill-color);\n",
              "      border-top-color: var(--fill-color);\n",
              "      border-right-color: var(--fill-color);\n",
              "    }\n",
              "    40% {\n",
              "      border-color: transparent;\n",
              "      border-right-color: var(--fill-color);\n",
              "      border-top-color: var(--fill-color);\n",
              "    }\n",
              "    60% {\n",
              "      border-color: transparent;\n",
              "      border-right-color: var(--fill-color);\n",
              "    }\n",
              "    80% {\n",
              "      border-color: transparent;\n",
              "      border-right-color: var(--fill-color);\n",
              "      border-bottom-color: var(--fill-color);\n",
              "    }\n",
              "    90% {\n",
              "      border-color: transparent;\n",
              "      border-bottom-color: var(--fill-color);\n",
              "    }\n",
              "  }\n",
              "</style>\n",
              "\n",
              "      <script>\n",
              "        async function quickchart(key) {\n",
              "          const quickchartButtonEl =\n",
              "            document.querySelector('#' + key + ' button');\n",
              "          quickchartButtonEl.disabled = true;  // To prevent multiple clicks.\n",
              "          quickchartButtonEl.classList.add('colab-df-spinner');\n",
              "          try {\n",
              "            const charts = await google.colab.kernel.invokeFunction(\n",
              "                'suggestCharts', [key], {});\n",
              "          } catch (error) {\n",
              "            console.error('Error during call to suggestCharts:', error);\n",
              "          }\n",
              "          quickchartButtonEl.classList.remove('colab-df-spinner');\n",
              "          quickchartButtonEl.classList.add('colab-df-quickchart-complete');\n",
              "        }\n",
              "        (() => {\n",
              "          let quickchartButtonEl =\n",
              "            document.querySelector('#df-25d6f084-a11f-4f61-9496-9dab118dd597 button');\n",
              "          quickchartButtonEl.style.display =\n",
              "            google.colab.kernel.accessAllowed ? 'block' : 'none';\n",
              "        })();\n",
              "      </script>\n",
              "    </div>\n",
              "\n",
              "  <div id=\"id_839f6ff9-310b-4e11-a40a-e3877baf2fde\">\n",
              "    <style>\n",
              "      .colab-df-generate {\n",
              "        background-color: #E8F0FE;\n",
              "        border: none;\n",
              "        border-radius: 50%;\n",
              "        cursor: pointer;\n",
              "        display: none;\n",
              "        fill: #1967D2;\n",
              "        height: 32px;\n",
              "        padding: 0 0 0 0;\n",
              "        width: 32px;\n",
              "      }\n",
              "\n",
              "      .colab-df-generate:hover {\n",
              "        background-color: #E2EBFA;\n",
              "        box-shadow: 0px 1px 2px rgba(60, 64, 67, 0.3), 0px 1px 3px 1px rgba(60, 64, 67, 0.15);\n",
              "        fill: #174EA6;\n",
              "      }\n",
              "\n",
              "      [theme=dark] .colab-df-generate {\n",
              "        background-color: #3B4455;\n",
              "        fill: #D2E3FC;\n",
              "      }\n",
              "\n",
              "      [theme=dark] .colab-df-generate:hover {\n",
              "        background-color: #434B5C;\n",
              "        box-shadow: 0px 1px 3px 1px rgba(0, 0, 0, 0.15);\n",
              "        filter: drop-shadow(0px 1px 2px rgba(0, 0, 0, 0.3));\n",
              "        fill: #FFFFFF;\n",
              "      }\n",
              "    </style>\n",
              "    <button class=\"colab-df-generate\" onclick=\"generateWithVariable('edges_df')\"\n",
              "            title=\"Generate code using this dataframe.\"\n",
              "            style=\"display:none;\">\n",
              "\n",
              "  <svg xmlns=\"http://www.w3.org/2000/svg\" height=\"24px\"viewBox=\"0 0 24 24\"\n",
              "       width=\"24px\">\n",
              "    <path d=\"M7,19H8.4L18.45,9,17,7.55,7,17.6ZM5,21V16.75L18.45,3.32a2,2,0,0,1,2.83,0l1.4,1.43a1.91,1.91,0,0,1,.58,1.4,1.91,1.91,0,0,1-.58,1.4L9.25,21ZM18.45,9,17,7.55Zm-12,3A5.31,5.31,0,0,0,4.9,8.1,5.31,5.31,0,0,0,1,6.5,5.31,5.31,0,0,0,4.9,4.9,5.31,5.31,0,0,0,6.5,1,5.31,5.31,0,0,0,8.1,4.9,5.31,5.31,0,0,0,12,6.5,5.46,5.46,0,0,0,6.5,12Z\"/>\n",
              "  </svg>\n",
              "    </button>\n",
              "    <script>\n",
              "      (() => {\n",
              "      const buttonEl =\n",
              "        document.querySelector('#id_839f6ff9-310b-4e11-a40a-e3877baf2fde button.colab-df-generate');\n",
              "      buttonEl.style.display =\n",
              "        google.colab.kernel.accessAllowed ? 'block' : 'none';\n",
              "\n",
              "      buttonEl.onclick = () => {\n",
              "        google.colab.notebook.generateWithVariable('edges_df');\n",
              "      }\n",
              "      })();\n",
              "    </script>\n",
              "  </div>\n",
              "\n",
              "    </div>\n",
              "  </div>\n"
            ],
            "application/vnd.google.colaboratory.intrinsic+json": {
              "type": "dataframe",
              "variable_name": "edges_df"
            }
          },
          "metadata": {},
          "execution_count": 10
        }
      ]
    },
    {
      "cell_type": "code",
      "source": [
        "edges_df = edges_df.sort_values(['from_title', 'to_title'])"
      ],
      "metadata": {
        "id": "1f-h_FDY4Let"
      },
      "id": "1f-h_FDY4Let",
      "execution_count": null,
      "outputs": []
    },
    {
      "cell_type": "code",
      "source": [
        "edges_df.to_csv('./edges_df.csv', index=False)"
      ],
      "metadata": {
        "id": "9tzWr0xoSRzF"
      },
      "id": "9tzWr0xoSRzF",
      "execution_count": null,
      "outputs": []
    },
    {
      "cell_type": "code",
      "source": [
        "s_id_title.to_csv('./s_id_title.csv', index=False)"
      ],
      "metadata": {
        "id": "MgGa6YG_Sk_r"
      },
      "id": "MgGa6YG_Sk_r",
      "execution_count": null,
      "outputs": []
    },
    {
      "cell_type": "code",
      "source": [
        "!sha256sum ./s_id_title.csv"
      ],
      "metadata": {
        "colab": {
          "base_uri": "https://localhost:8080/"
        },
        "id": "73cV8hXmxQ1d",
        "outputId": "bd32aa90-e862-45cc-cf81-434f6a596219"
      },
      "id": "73cV8hXmxQ1d",
      "execution_count": null,
      "outputs": [
        {
          "output_type": "stream",
          "name": "stdout",
          "text": [
            "f2c7e4cfc9895e3dc1eabc323f6fa6164eb515e5e229394bd2c795cf020ee391  ./s_id_title.csv\n"
          ]
        }
      ]
    },
    {
      "cell_type": "code",
      "source": [
        "!sha256sum ./edges_df.csv"
      ],
      "metadata": {
        "colab": {
          "base_uri": "https://localhost:8080/"
        },
        "id": "-h7LbfeHxWJU",
        "outputId": "9c603232-5876-4c52-8492-553fa0f18c68"
      },
      "id": "-h7LbfeHxWJU",
      "execution_count": null,
      "outputs": [
        {
          "output_type": "stream",
          "name": "stdout",
          "text": [
            "2b475e5fffb6e5154a3ae3dd6dc63f6b0c5261b50c914b316787a5c1e1c295e6  ./edges_df.csv\n"
          ]
        }
      ]
    },
    {
      "cell_type": "markdown",
      "source": [
        "# 그래프 데이터 로딩\n",
        "\n",
        "생성된 그래프 데이터를 불러옵니다.\n",
        "파일의 체크섬을 확인하여 유효한 데이터인지 확인합니다.\n",
        "\n",
        "- `!sha256sum ./s_id_title.csv`: `f2c7e4cfc9895e3dc1eabc323f6fa6164eb515e5e229394bd2c795cf020ee391`\n",
        "- `!sha256sum ./edges_df.csv`: `2b475e5fffb6e5154a3ae3dd6dc63f6b0c5261b50c914b316787a5c1e1c295e6  `"
      ],
      "metadata": {
        "id": "Pt4-ZIpIkflO"
      },
      "id": "Pt4-ZIpIkflO"
    },
    {
      "cell_type": "markdown",
      "source": [
        "- s_id_title은 행이 867024개인 Series입니다.\n",
        "- edges_df는 행이 18700924개인 DataFrame입니다."
      ],
      "metadata": {
        "id": "NTme893WRxMG"
      },
      "id": "NTme893WRxMG"
    },
    {
      "cell_type": "code",
      "source": [
        "!sha256sum ./s_id_title.csv\n",
        "!sha256sum ./edges_df.csv"
      ],
      "metadata": {
        "colab": {
          "base_uri": "https://localhost:8080/"
        },
        "id": "eIB-O9D2yEvg",
        "outputId": "34456e85-95a5-481c-f415-ba2033240f12"
      },
      "id": "eIB-O9D2yEvg",
      "execution_count": null,
      "outputs": [
        {
          "output_type": "stream",
          "name": "stdout",
          "text": [
            "f2c7e4cfc9895e3dc1eabc323f6fa6164eb515e5e229394bd2c795cf020ee391  ./s_id_title.csv\n",
            "2b475e5fffb6e5154a3ae3dd6dc63f6b0c5261b50c914b316787a5c1e1c295e6  ./edges_df.csv\n"
          ]
        }
      ]
    },
    {
      "cell_type": "code",
      "source": [
        "edges_df = pd.read_csv('./edges_df.csv')\n",
        "s_id_title = pd.read_csv('./s_id_title.csv', keep_default_na=False)['title']\n",
        "s_title_id = s_id_title.reset_index().set_index('title', verify_integrity=True)['index'].sort_index()"
      ],
      "metadata": {
        "id": "ofH3E_r1krvc"
      },
      "id": "ofH3E_r1krvc",
      "execution_count": null,
      "outputs": []
    },
    {
      "cell_type": "markdown",
      "source": [
        "양방향 연결이 모두 존재하는 경우만을 모은 `edges_undirected_df`를 만듭니다. 약 30초 소요됩니다."
      ],
      "metadata": {
        "id": "s_NlBi3NG2U9"
      },
      "id": "s_NlBi3NG2U9"
    },
    {
      "cell_type": "code",
      "source": [
        "# Create a reversed version of the original edges\n",
        "reversed_df = edges_df.rename(columns={'from_title': 'to_title', 'to_title': 'from_title'})\n",
        "\n",
        "# Perform an inner merge to find mutual (bidirectional) edges\n",
        "bidirectional = edges_df.merge(reversed_df, on=['from_title', 'to_title'])\n",
        "\n",
        "# Calculate sum of inverses of counts to set it as weights\n",
        "bidirectional['weight'] = ((1 / bidirectional['count_x']) + (1 / bidirectional['count_y'])) / 2\n",
        "\n",
        "# Since both directions should be included, concatenate both directions\n",
        "edges_undirected_df = pd.concat([\n",
        "    bidirectional[['from_title', 'to_title', 'weight']],\n",
        "    bidirectional[['to_title', 'from_title', 'weight']].rename(columns={'to_title': 'from_title', 'from_title': 'to_title'})\n",
        "])\n",
        "\n",
        "# Drop duplicates just in case, and sort\n",
        "edges_undirected_df = edges_undirected_df.drop_duplicates().sort_values(['from_title', 'to_title']).reset_index(drop=True)\n"
      ],
      "metadata": {
        "id": "9BIFEd8AGwQe"
      },
      "id": "9BIFEd8AGwQe",
      "execution_count": null,
      "outputs": []
    },
    {
      "cell_type": "markdown",
      "source": [
        "# `from_title`열에서 이분탐색"
      ],
      "metadata": {
        "id": "pjQAgEX_JLHR"
      },
      "id": "pjQAgEX_JLHR"
    },
    {
      "cell_type": "markdown",
      "source": [
        "`from_title`열에서 이분탐색을 수행합니다. 정렬된 `from_title`열을 기준으로 `target`과 일치하는 부분의 시작과 끝을 이분탐색으로 구합니다."
      ],
      "metadata": {
        "id": "iv9X3flimvIW"
      },
      "id": "iv9X3flimvIW"
    },
    {
      "cell_type": "code",
      "source": [
        "def find_lower_bound(target, _edges_df):\n",
        "    left, right = 0, len(_edges_df)\n",
        "    while left < right:\n",
        "        mid = (left + right) // 2\n",
        "        if _edges_df.iloc[mid]['from_title'] < target:\n",
        "            left = mid + 1\n",
        "        else:\n",
        "            right = mid\n",
        "    return left\n",
        "\n",
        "def find_upper_bound(target, _edges_df):\n",
        "    left, right = 0, len(_edges_df)\n",
        "    while left < right:\n",
        "        mid = (left + right) // 2\n",
        "        if _edges_df.iloc[mid]['from_title'] <= target:\n",
        "            left = mid + 1\n",
        "        else:\n",
        "            right = mid\n",
        "    return left\n",
        "\n",
        "def binary_search_title(target, _edges_df):\n",
        "    \"\"\"\n",
        "    Perform binary search on a DataFrame sorted by 'from_title' to find all rows where from_title == target.\n",
        "\n",
        "    Parameters:\n",
        "        target (int): The title id to search for.\n",
        "\n",
        "    Returns:\n",
        "        pd.DataFrame: Subset of rows with from_title == target. Empty if not found.\n",
        "    \"\"\"\n",
        "\n",
        "    lower = find_lower_bound(target, _edges_df)\n",
        "    upper = find_upper_bound(target, _edges_df)\n",
        "\n",
        "    if lower == upper:\n",
        "        return pd.DataFrame(columns=_edges_df.columns)  # target not found\n",
        "\n",
        "    return _edges_df.iloc[lower:upper]\n"
      ],
      "metadata": {
        "id": "mpjgdSTWipsE"
      },
      "id": "mpjgdSTWipsE",
      "execution_count": null,
      "outputs": []
    },
    {
      "cell_type": "markdown",
      "source": [
        "# 문서 A -> B 최단 경로를 찾는 BFS 알고리즘"
      ],
      "metadata": {
        "id": "hlsbcAtvGze-"
      },
      "id": "hlsbcAtvGze-"
    },
    {
      "cell_type": "markdown",
      "source": [
        "- BFS 알고리즘을 활용하여 나무위키 문서 A에서 문서 B로 링크를 타고 이동하는 최단 경로를 찾습니다.\n",
        "- 문서 제목을 이분탐색으로 찾습니다.\n",
        "- 최단 거리 경로가 여러 개이면 모두 구합니다.\n",
        "- `undirected`가 `True`이면 간선이 두 방향 모두 존재하는 경우만을 고려합니다."
      ],
      "metadata": {
        "id": "OPiWkQQUwnil"
      },
      "id": "OPiWkQQUwnil"
    },
    {
      "cell_type": "code",
      "source": [
        "def bfs_shortest_path(start_title, target_title, undirected):\n",
        "    \"\"\"\n",
        "    Finds the shortest path between two documents using BFS (layer-by-layer).\n",
        "\n",
        "    Parameters:\n",
        "        start_title (str): Title of the start document.\n",
        "        target_title (str): Title of the target document.\n",
        "        undirected (bool): If True, treat the graph as undirected.\n",
        "\n",
        "    Returns:\n",
        "        List[str] or None: List of titles from start to target, or None if no path exists.\n",
        "    \"\"\"\n",
        "    start_id = s_title_id.get(start_title)\n",
        "    target_id = s_title_id.get(target_title)\n",
        "    if pd.isna(start_id) or pd.isna(target_id):\n",
        "        return None\n",
        "\n",
        "    if start_id == target_id:\n",
        "        return [start_id]\n",
        "\n",
        "    visited = set([start_id])\n",
        "    queue = [[start_id]]\n",
        "    result = []\n",
        "    distance = 1\n",
        "\n",
        "    _edges_df = edges_undirected_df if undirected else edges_df\n",
        "\n",
        "    while queue:\n",
        "        next_queue = []\n",
        "        curr_visited = set()\n",
        "        distance += 1\n",
        "        print(f\"searching for {distance=}\")\n",
        "\n",
        "        for path in tqdm(queue):\n",
        "            edges = binary_search_title(path[-1], _edges_df)\n",
        "\n",
        "            for row in edges.itertuples(index=False):\n",
        "                neighbor = row.to_title\n",
        "                if neighbor in visited:\n",
        "                    continue\n",
        "\n",
        "                curr_visited.add(neighbor)\n",
        "                new_path = path + [neighbor]\n",
        "\n",
        "                if neighbor == target_id:\n",
        "                    result.append(new_path)\n",
        "                else:\n",
        "                    next_queue.append(new_path)\n",
        "        if result:\n",
        "            return [list(map(lambda x: s_id_title.loc[x], path)) for path in result]\n",
        "        # Move to next BFS layer\n",
        "        queue = next_queue\n",
        "        visited |= curr_visited\n",
        "\n",
        "    return None  # No path found"
      ],
      "metadata": {
        "id": "qP_fyIR7bTqV"
      },
      "id": "qP_fyIR7bTqV",
      "execution_count": null,
      "outputs": []
    },
    {
      "cell_type": "code",
      "source": [
        "bfs_shortest_path('수학', '전투기', False)"
      ],
      "metadata": {
        "colab": {
          "base_uri": "https://localhost:8080/"
        },
        "id": "Iu5bdS_ph4l-",
        "outputId": "06779f77-bd32-4e5a-af7e-97f82eeb6e6f"
      },
      "id": "Iu5bdS_ph4l-",
      "execution_count": null,
      "outputs": [
        {
          "output_type": "stream",
          "name": "stdout",
          "text": [
            "searching for distance=2\n"
          ]
        },
        {
          "output_type": "stream",
          "name": "stderr",
          "text": [
            "100%|██████████| 1/1 [00:00<00:00, 64.35it/s]\n"
          ]
        },
        {
          "output_type": "stream",
          "name": "stdout",
          "text": [
            "searching for distance=3\n"
          ]
        },
        {
          "output_type": "stream",
          "name": "stderr",
          "text": [
            "100%|██████████| 225/225 [00:00<00:00, 312.45it/s]\n"
          ]
        },
        {
          "output_type": "stream",
          "name": "stdout",
          "text": [
            "searching for distance=4\n"
          ]
        },
        {
          "output_type": "stream",
          "name": "stderr",
          "text": [
            "100%|██████████| 14361/14361 [00:32<00:00, 445.73it/s]\n"
          ]
        },
        {
          "output_type": "execute_result",
          "data": {
            "text/plain": [
              "[['수학', '한국십진분류법/요목표', '공군', '전투기'],\n",
              " ['수학', '한국십진분류법/요목표', '유럽', '전투기'],\n",
              " ['수학', '한국십진분류법/요목표', '종이', '전투기'],\n",
              " ['수학', '한국십진분류법/요목표', '프랑스', '전투기'],\n",
              " ['수학', 'N(포켓몬스터)', '초음파', '전투기'],\n",
              " ['수학', 'Q.E.D. 증명종료', '2009년', '전투기'],\n",
              " ['수학', '공과대학', '대한민국 공군', '전투기'],\n",
              " ['수학', '공대개그', '관제탑/유머', '전투기'],\n",
              " ['수학', '공대개그', '애국가', '전투기'],\n",
              " ['수학', '공대개그', '종이', '전투기'],\n",
              " ['수학', '공대개그', '티타늄', '전투기'],\n",
              " ['수학', '공업수학', 'F', '전투기'],\n",
              " ['수학', '공업수학', '보잉', '전투기'],\n",
              " ['수학', '과학', '야마하', '전투기'],\n",
              " ['수학', '노벨경제학상', '프랑스', '전투기'],\n",
              " ['수학', '노벨상', '베트남 전쟁', '전투기'],\n",
              " ['수학', '노벨상', '유럽', '전투기'],\n",
              " ['수학', '노벨상', '제1차 세계 대전', '전투기'],\n",
              " ['수학', '노벨상', '프랑스', '전투기'],\n",
              " ['수학', '논리학', '유럽', '전투기'],\n",
              " ['수학', '대기과학', '파리(프랑스)', '전투기'],\n",
              " ['수학', '동양', '프랑스', '전투기'],\n",
              " ['수학', '리처드 파인만', '1965년', '전투기'],\n",
              " ['수학', '리처드 파인만', 'NASA', '전투기'],\n",
              " ['수학', '리처드 파인만', '파리(프랑스)', '전투기'],\n",
              " ['수학', '물리학', '성층권', '전투기'],\n",
              " ['수학', '물리학', '우주에서는 총알이 발사되지 않는다', '전투기'],\n",
              " ['수학', '물리학', '필립 모티머 교수', '전투기'],\n",
              " ['수학', '바이오쇼크 2', '드릴', '전투기'],\n",
              " ['수학', '바이오쇼크 2', '프로토타입', '전투기'],\n",
              " ['수학', '버트런드 러셀', '베트남 전쟁', '전투기'],\n",
              " ['수학', '버트런드 러셀', '제1차 세계 대전', '전투기'],\n",
              " ['수학', '사이퍼즈', '디젤펑크', '전투기'],\n",
              " ['수학', '사회학', '유럽', '전투기'],\n",
              " ['수학', '실험체 시그마', '드릴', '전투기'],\n",
              " ['수학', '서양', '유럽', '전투기'],\n",
              " ['수학', '서양', '유럽연합', '전투기'],\n",
              " ['수학', '셜록 홈즈', '불사조', '전투기'],\n",
              " ['수학', '셜록 홈즈', '프랑스', '전투기'],\n",
              " ['수학', '수리 논리학', '논리적 오류/비형식적 오류', '전투기'],\n",
              " ['수학', '숫자', '0', '전투기'],\n",
              " ['수학', '신경과학', '2009년', '전투기'],\n",
              " ['수학', '썸머 워즈', '2009년', '전투기'],\n",
              " ['수학', '언어', '프랑스', '전투기'],\n",
              " ['수학', '영어', '미군', '전투기'],\n",
              " ['수학', '영어', '에리트레아', '전투기'],\n",
              " ['수학', '영어', '유럽', '전투기'],\n",
              " ['수학', '영어', '유럽연합', '전투기'],\n",
              " ['수학', '영어', '파리(프랑스)', '전투기'],\n",
              " ['수학', '영어', '프랑스', '전투기'],\n",
              " ['수학', '월하의 동사무소', '2009년', '전투기'],\n",
              " ['수학', '의학', '2009년', '전투기'],\n",
              " ['수학', '의학', '유럽', '전투기'],\n",
              " ['수학', '이야기 시리즈', '2009년', '전투기'],\n",
              " ['수학', '인류학', '프랑스', '전투기'],\n",
              " ['수학', '제임스 모리어티', '프랑스', '전투기'],\n",
              " ['수학', '존 내시', '안전벨트', '전투기'],\n",
              " ['수학', '지구과학', '성층권', '전투기'],\n",
              " ['수학', '지구과학', '유럽', '전투기'],\n",
              " ['수학', '지질학', 'NASA', '전투기'],\n",
              " ['수학', '지질학', '티타늄', '전투기'],\n",
              " ['수학', '철학', '유럽', '전투기'],\n",
              " ['수학', '파운데이션 시리즈', '인디펜던스 데이', '전투기'],\n",
              " ['수학', '퍼시픽 림', '인디펜던스 데이', '전투기'],\n",
              " ['수학', '퍼시픽 림', '특촬물', '전투기'],\n",
              " ['수학', '페르마의 마지막 정리', '프랑스', '전투기'],\n",
              " ['수학', '편입학', '대위', '전투기'],\n",
              " ['수학', '플라톤', '돈지랄', '전투기'],\n",
              " ['수학', '필즈상', '프랑스', '전투기'],\n",
              " ['수학', '고드프리 해럴드 하디', '베니토 무솔리니', '전투기'],\n",
              " ['수학', '고드프리 해럴드 하디', '제1차 세계 대전', '전투기'],\n",
              " ['수학', '마블 코믹스', '베트남 전쟁', '전투기'],\n",
              " ['수학', '국제수학올림피아드', '프랑스', '전투기'],\n",
              " ['수학', '게오르크 칸토어', '제1차 세계 대전', '전투기'],\n",
              " ['수학', '수학/역사', '0', '전투기'],\n",
              " ['수학', '수학/역사', '프랑스', '전투기'],\n",
              " ['수학', '해석학(수학)', '유럽', '전투기'],\n",
              " ['수학', '수학자/목록', '0', '전투기'],\n",
              " ['수학', '수학자/목록', '포커', '전투기']]"
            ]
          },
          "metadata": {},
          "execution_count": 20
        }
      ]
    },
    {
      "cell_type": "code",
      "source": [
        "bfs_shortest_path('수학', '전투기', True)"
      ],
      "metadata": {
        "id": "POApXf0AWK3t",
        "colab": {
          "base_uri": "https://localhost:8080/"
        },
        "outputId": "efb71ecd-88b0-4c8a-8256-a42d7e401f6c"
      },
      "id": "POApXf0AWK3t",
      "execution_count": null,
      "outputs": [
        {
          "output_type": "stream",
          "name": "stdout",
          "text": [
            "searching for distance=2\n"
          ]
        },
        {
          "output_type": "stream",
          "name": "stderr",
          "text": [
            "100%|██████████| 1/1 [00:00<00:00, 253.88it/s]\n"
          ]
        },
        {
          "output_type": "stream",
          "name": "stdout",
          "text": [
            "searching for distance=3\n"
          ]
        },
        {
          "output_type": "stream",
          "name": "stderr",
          "text": [
            "100%|██████████| 50/50 [00:00<00:00, 703.49it/s]\n"
          ]
        },
        {
          "output_type": "stream",
          "name": "stdout",
          "text": [
            "searching for distance=4\n"
          ]
        },
        {
          "output_type": "stream",
          "name": "stderr",
          "text": [
            "100%|██████████| 928/928 [00:01<00:00, 696.38it/s]\n"
          ]
        },
        {
          "output_type": "stream",
          "name": "stdout",
          "text": [
            "searching for distance=5\n"
          ]
        },
        {
          "output_type": "stream",
          "name": "stderr",
          "text": [
            "100%|██████████| 22014/22014 [00:35<00:00, 624.98it/s]\n"
          ]
        },
        {
          "output_type": "execute_result",
          "data": {
            "text/plain": [
              "[['수학', '경제학', '미국', '미군', '전투기'],\n",
              " ['수학', '과학', '미국', '미군', '전투기'],\n",
              " ['수학', '노벨상', '미국', '미군', '전투기'],\n",
              " ['수학', '노벨상', '영국', '공군', '전투기'],\n",
              " ['수학', '노벨상', '한국인', '베트남 전쟁', '전투기'],\n",
              " ['수학', '물리학', '광속', '음속', '전투기'],\n",
              " ['수학', '버트런드 러셀', '제1차 세계 대전', '영국 본토 항공전', '전투기'],\n",
              " ['수학', '버트런드 러셀', '제1차 세계 대전', '폭격기', '전투기'],\n",
              " ['수학', '언어', '영국', '공군', '전투기'],\n",
              " ['수학', '언어', '캐나다', 'F-35', '전투기'],\n",
              " ['수학', '언어', '캐나다', 'F/A-18', '전투기'],\n",
              " ['수학', '언어', '한국인', '베트남 전쟁', '전투기'],\n",
              " ['수학', '이산수학', '셈 측도', '말(동물)', '전투기']]"
            ]
          },
          "metadata": {},
          "execution_count": 21
        }
      ]
    },
    {
      "cell_type": "markdown",
      "source": [
        "# 문서 A -> B 최단 경로를 찾는 다익스트라 알고리즘"
      ],
      "metadata": {
        "id": "U_FtFOGkJmZG"
      },
      "id": "U_FtFOGkJmZG"
    },
    {
      "cell_type": "code",
      "source": [
        "def dijkstra_shortest_path(start_title, target_title, undirected):\n",
        "    \"\"\"\n",
        "    Finds the shortest path between two documents using Dijkstra's algorithm.\n",
        "    Edge weights are defined as 1 / count.\n",
        "\n",
        "    Parameters:\n",
        "        start_title (str): Title of the start document.\n",
        "        target_title (str): Title of the target document.\n",
        "\n",
        "    Returns:\n",
        "        List[str] or None: List of titles from start to target, or None if no path exists.\n",
        "    \"\"\"\n",
        "    start_id = s_title_id.get(start_title)\n",
        "    target_id = s_title_id.get(target_title)\n",
        "    if pd.isna(start_id) or pd.isna(target_id):\n",
        "        return None\n",
        "\n",
        "    # Priority queue: (cost, current_node, path)\n",
        "    heap = [(0, start_id, [start_id])]\n",
        "    visited = set()\n",
        "\n",
        "    _edges_df = edges_undirected_df if undirected else edges_df\n",
        "    pbar = tqdm(total=len(s_id_title), desc=\"Dijkstra Search\", unit=\"node\")\n",
        "\n",
        "    while heap:\n",
        "        cost, node, path = heapq.heappop(heap)\n",
        "        if node == target_id:\n",
        "            pbar.close()\n",
        "            return cost, [s_id_title.loc[pid] for pid in path]\n",
        "\n",
        "        if node in visited:\n",
        "            continue\n",
        "        visited.add(node)\n",
        "        pbar.update(1)\n",
        "\n",
        "        edges = binary_search_title(node, _edges_df)\n",
        "        for row in edges.itertuples(index=False):\n",
        "            neighbor = row.to_title\n",
        "            weight = row.weight if undirected else 1/row.count\n",
        "            if neighbor not in visited:\n",
        "                heapq.heappush(heap, (cost + weight, neighbor, path + [neighbor]))\n",
        "\n",
        "    pbar.close()\n",
        "    return None  # No path found\n"
      ],
      "metadata": {
        "id": "oc0gsgJZ25PD"
      },
      "id": "oc0gsgJZ25PD",
      "execution_count": null,
      "outputs": []
    },
    {
      "cell_type": "code",
      "source": [
        "dijkstra_shortest_path('수학', '전투기', False)"
      ],
      "metadata": {
        "colab": {
          "base_uri": "https://localhost:8080/"
        },
        "id": "5ZGwLoH1LB7A",
        "outputId": "ca58f727-137a-4716-b930-6f34eebf9cfd"
      },
      "id": "5ZGwLoH1LB7A",
      "execution_count": null,
      "outputs": [
        {
          "output_type": "stream",
          "name": "stderr",
          "text": [
            "Dijkstra Search:   1%|          | 4586/867024 [00:11<36:39, 392.07node/s]\n"
          ]
        },
        {
          "output_type": "execute_result",
          "data": {
            "text/plain": [
              "(1.2083333333333333, ['수학', '의학', '의사', '군의관', '대한민국 공군', '전투기'])"
            ]
          },
          "metadata": {},
          "execution_count": 39
        }
      ]
    },
    {
      "cell_type": "code",
      "source": [],
      "metadata": {
        "id": "-FHURqBcPLDK"
      },
      "id": "-FHURqBcPLDK",
      "execution_count": null,
      "outputs": []
    }
  ],
  "metadata": {
    "kernelspec": {
      "display_name": "crawling",
      "language": "python",
      "name": "python3"
    },
    "language_info": {
      "codemirror_mode": {
        "name": "ipython",
        "version": 3
      },
      "file_extension": ".py",
      "mimetype": "text/x-python",
      "name": "python",
      "nbconvert_exporter": "python",
      "pygments_lexer": "ipython3",
      "version": "3.12.9"
    },
    "colab": {
      "provenance": [],
      "toc_visible": true
    },
    "widgets": {
      "application/vnd.jupyter.widget-state+json": {
        "3d672cba5db64bd2a5321f71f40b09d1": {
          "model_module": "@jupyter-widgets/controls",
          "model_name": "HBoxModel",
          "model_module_version": "1.5.0",
          "state": {
            "_dom_classes": [],
            "_model_module": "@jupyter-widgets/controls",
            "_model_module_version": "1.5.0",
            "_model_name": "HBoxModel",
            "_view_count": null,
            "_view_module": "@jupyter-widgets/controls",
            "_view_module_version": "1.5.0",
            "_view_name": "HBoxView",
            "box_style": "",
            "children": [
              "IPY_MODEL_968f8512627f4175871534d34067924d",
              "IPY_MODEL_bb6c23dc6f7c46b0ac0631b81ea1a0fa",
              "IPY_MODEL_4ae397e5934d40d689a0986dd08240b1"
            ],
            "layout": "IPY_MODEL_f3d6a03081ed48d2942590dbf0f288fe"
          }
        },
        "968f8512627f4175871534d34067924d": {
          "model_module": "@jupyter-widgets/controls",
          "model_name": "HTMLModel",
          "model_module_version": "1.5.0",
          "state": {
            "_dom_classes": [],
            "_model_module": "@jupyter-widgets/controls",
            "_model_module_version": "1.5.0",
            "_model_name": "HTMLModel",
            "_view_count": null,
            "_view_module": "@jupyter-widgets/controls",
            "_view_module_version": "1.5.0",
            "_view_name": "HTMLView",
            "description": "",
            "description_tooltip": null,
            "layout": "IPY_MODEL_4f3ab2bdf681404c86f7cd7ee378faab",
            "placeholder": "​",
            "style": "IPY_MODEL_3c5221a42b644ce4a10c73e6bc659a44",
            "value": "namuwiki_20210301.parquet: 100%"
          }
        },
        "bb6c23dc6f7c46b0ac0631b81ea1a0fa": {
          "model_module": "@jupyter-widgets/controls",
          "model_name": "FloatProgressModel",
          "model_module_version": "1.5.0",
          "state": {
            "_dom_classes": [],
            "_model_module": "@jupyter-widgets/controls",
            "_model_module_version": "1.5.0",
            "_model_name": "FloatProgressModel",
            "_view_count": null,
            "_view_module": "@jupyter-widgets/controls",
            "_view_module_version": "1.5.0",
            "_view_name": "ProgressView",
            "bar_style": "success",
            "description": "",
            "description_tooltip": null,
            "layout": "IPY_MODEL_bfb9f6b6a7ed441a9ec5fb09db8a569e",
            "max": 3029535785,
            "min": 0,
            "orientation": "horizontal",
            "style": "IPY_MODEL_8e0b70697f2f43fcb4e5ab9120d08cb7",
            "value": 3029535785
          }
        },
        "4ae397e5934d40d689a0986dd08240b1": {
          "model_module": "@jupyter-widgets/controls",
          "model_name": "HTMLModel",
          "model_module_version": "1.5.0",
          "state": {
            "_dom_classes": [],
            "_model_module": "@jupyter-widgets/controls",
            "_model_module_version": "1.5.0",
            "_model_name": "HTMLModel",
            "_view_count": null,
            "_view_module": "@jupyter-widgets/controls",
            "_view_module_version": "1.5.0",
            "_view_name": "HTMLView",
            "description": "",
            "description_tooltip": null,
            "layout": "IPY_MODEL_45bfcf6196ef4d49b632facaa8c20917",
            "placeholder": "​",
            "style": "IPY_MODEL_2aa846e98d1240b99fdc7c86cb9db76b",
            "value": " 3.03G/3.03G [00:29&lt;00:00, 173MB/s]"
          }
        },
        "f3d6a03081ed48d2942590dbf0f288fe": {
          "model_module": "@jupyter-widgets/base",
          "model_name": "LayoutModel",
          "model_module_version": "1.2.0",
          "state": {
            "_model_module": "@jupyter-widgets/base",
            "_model_module_version": "1.2.0",
            "_model_name": "LayoutModel",
            "_view_count": null,
            "_view_module": "@jupyter-widgets/base",
            "_view_module_version": "1.2.0",
            "_view_name": "LayoutView",
            "align_content": null,
            "align_items": null,
            "align_self": null,
            "border": null,
            "bottom": null,
            "display": null,
            "flex": null,
            "flex_flow": null,
            "grid_area": null,
            "grid_auto_columns": null,
            "grid_auto_flow": null,
            "grid_auto_rows": null,
            "grid_column": null,
            "grid_gap": null,
            "grid_row": null,
            "grid_template_areas": null,
            "grid_template_columns": null,
            "grid_template_rows": null,
            "height": null,
            "justify_content": null,
            "justify_items": null,
            "left": null,
            "margin": null,
            "max_height": null,
            "max_width": null,
            "min_height": null,
            "min_width": null,
            "object_fit": null,
            "object_position": null,
            "order": null,
            "overflow": null,
            "overflow_x": null,
            "overflow_y": null,
            "padding": null,
            "right": null,
            "top": null,
            "visibility": null,
            "width": null
          }
        },
        "4f3ab2bdf681404c86f7cd7ee378faab": {
          "model_module": "@jupyter-widgets/base",
          "model_name": "LayoutModel",
          "model_module_version": "1.2.0",
          "state": {
            "_model_module": "@jupyter-widgets/base",
            "_model_module_version": "1.2.0",
            "_model_name": "LayoutModel",
            "_view_count": null,
            "_view_module": "@jupyter-widgets/base",
            "_view_module_version": "1.2.0",
            "_view_name": "LayoutView",
            "align_content": null,
            "align_items": null,
            "align_self": null,
            "border": null,
            "bottom": null,
            "display": null,
            "flex": null,
            "flex_flow": null,
            "grid_area": null,
            "grid_auto_columns": null,
            "grid_auto_flow": null,
            "grid_auto_rows": null,
            "grid_column": null,
            "grid_gap": null,
            "grid_row": null,
            "grid_template_areas": null,
            "grid_template_columns": null,
            "grid_template_rows": null,
            "height": null,
            "justify_content": null,
            "justify_items": null,
            "left": null,
            "margin": null,
            "max_height": null,
            "max_width": null,
            "min_height": null,
            "min_width": null,
            "object_fit": null,
            "object_position": null,
            "order": null,
            "overflow": null,
            "overflow_x": null,
            "overflow_y": null,
            "padding": null,
            "right": null,
            "top": null,
            "visibility": null,
            "width": null
          }
        },
        "3c5221a42b644ce4a10c73e6bc659a44": {
          "model_module": "@jupyter-widgets/controls",
          "model_name": "DescriptionStyleModel",
          "model_module_version": "1.5.0",
          "state": {
            "_model_module": "@jupyter-widgets/controls",
            "_model_module_version": "1.5.0",
            "_model_name": "DescriptionStyleModel",
            "_view_count": null,
            "_view_module": "@jupyter-widgets/base",
            "_view_module_version": "1.2.0",
            "_view_name": "StyleView",
            "description_width": ""
          }
        },
        "bfb9f6b6a7ed441a9ec5fb09db8a569e": {
          "model_module": "@jupyter-widgets/base",
          "model_name": "LayoutModel",
          "model_module_version": "1.2.0",
          "state": {
            "_model_module": "@jupyter-widgets/base",
            "_model_module_version": "1.2.0",
            "_model_name": "LayoutModel",
            "_view_count": null,
            "_view_module": "@jupyter-widgets/base",
            "_view_module_version": "1.2.0",
            "_view_name": "LayoutView",
            "align_content": null,
            "align_items": null,
            "align_self": null,
            "border": null,
            "bottom": null,
            "display": null,
            "flex": null,
            "flex_flow": null,
            "grid_area": null,
            "grid_auto_columns": null,
            "grid_auto_flow": null,
            "grid_auto_rows": null,
            "grid_column": null,
            "grid_gap": null,
            "grid_row": null,
            "grid_template_areas": null,
            "grid_template_columns": null,
            "grid_template_rows": null,
            "height": null,
            "justify_content": null,
            "justify_items": null,
            "left": null,
            "margin": null,
            "max_height": null,
            "max_width": null,
            "min_height": null,
            "min_width": null,
            "object_fit": null,
            "object_position": null,
            "order": null,
            "overflow": null,
            "overflow_x": null,
            "overflow_y": null,
            "padding": null,
            "right": null,
            "top": null,
            "visibility": null,
            "width": null
          }
        },
        "8e0b70697f2f43fcb4e5ab9120d08cb7": {
          "model_module": "@jupyter-widgets/controls",
          "model_name": "ProgressStyleModel",
          "model_module_version": "1.5.0",
          "state": {
            "_model_module": "@jupyter-widgets/controls",
            "_model_module_version": "1.5.0",
            "_model_name": "ProgressStyleModel",
            "_view_count": null,
            "_view_module": "@jupyter-widgets/base",
            "_view_module_version": "1.2.0",
            "_view_name": "StyleView",
            "bar_color": null,
            "description_width": ""
          }
        },
        "45bfcf6196ef4d49b632facaa8c20917": {
          "model_module": "@jupyter-widgets/base",
          "model_name": "LayoutModel",
          "model_module_version": "1.2.0",
          "state": {
            "_model_module": "@jupyter-widgets/base",
            "_model_module_version": "1.2.0",
            "_model_name": "LayoutModel",
            "_view_count": null,
            "_view_module": "@jupyter-widgets/base",
            "_view_module_version": "1.2.0",
            "_view_name": "LayoutView",
            "align_content": null,
            "align_items": null,
            "align_self": null,
            "border": null,
            "bottom": null,
            "display": null,
            "flex": null,
            "flex_flow": null,
            "grid_area": null,
            "grid_auto_columns": null,
            "grid_auto_flow": null,
            "grid_auto_rows": null,
            "grid_column": null,
            "grid_gap": null,
            "grid_row": null,
            "grid_template_areas": null,
            "grid_template_columns": null,
            "grid_template_rows": null,
            "height": null,
            "justify_content": null,
            "justify_items": null,
            "left": null,
            "margin": null,
            "max_height": null,
            "max_width": null,
            "min_height": null,
            "min_width": null,
            "object_fit": null,
            "object_position": null,
            "order": null,
            "overflow": null,
            "overflow_x": null,
            "overflow_y": null,
            "padding": null,
            "right": null,
            "top": null,
            "visibility": null,
            "width": null
          }
        },
        "2aa846e98d1240b99fdc7c86cb9db76b": {
          "model_module": "@jupyter-widgets/controls",
          "model_name": "DescriptionStyleModel",
          "model_module_version": "1.5.0",
          "state": {
            "_model_module": "@jupyter-widgets/controls",
            "_model_module_version": "1.5.0",
            "_model_name": "DescriptionStyleModel",
            "_view_count": null,
            "_view_module": "@jupyter-widgets/base",
            "_view_module_version": "1.2.0",
            "_view_name": "StyleView",
            "description_width": ""
          }
        }
      }
    }
  },
  "nbformat": 4,
  "nbformat_minor": 5
}